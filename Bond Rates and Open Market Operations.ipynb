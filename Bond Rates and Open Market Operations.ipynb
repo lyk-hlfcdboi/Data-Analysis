{
 "cells": [
  {
   "cell_type": "code",
   "execution_count": 1,
   "metadata": {},
   "outputs": [
    {
     "name": "stderr",
     "output_type": "stream",
     "text": [
      "F:\\Anaconda\\lib\\site-packages\\pandas\\core\\computation\\expressions.py:20: UserWarning: Pandas requires version '2.7.3' or newer of 'numexpr' (version '2.7.1' currently installed).\n",
      "  from pandas.core.computation.check import NUMEXPR_INSTALLED\n"
     ]
    }
   ],
   "source": [
    "import pandas as pd\n",
    "import numpy as np\n",
    "import scipy\n",
    "import matplotlib.pyplot as plt\n",
    "import os\n",
    "from pandas.core.computation.check import NUMEXPR_INSTALLED\n",
    "import openpyxl\n",
    "from datetime import datetime\n",
    "import re\n",
    "import scipy\n",
    "\n",
    "plt.rcParams[\"font.sans-serif\"] = [\"SimHei\"]\n",
    "plt.rcParams[\"axes.unicode_minus\"] = False\n",
    "\n",
    "d = 'D:/中泰证券数据分析/3'\n",
    "os.chdir(d)"
   ]
  },
  {
   "cell_type": "markdown",
   "metadata": {},
   "source": [
    "# 处理表格“公开市场操作”"
   ]
  },
  {
   "cell_type": "code",
   "execution_count": 2,
   "metadata": {
    "scrolled": true
   },
   "outputs": [
    {
     "name": "stdout",
     "output_type": "stream",
     "text": [
      "日期          0\n",
      "操作类型        0\n",
      "操作方向        0\n",
      "发行总量(亿元)    0\n",
      "期限          0\n",
      "利率(%)       0\n",
      "利率变动bp      0\n",
      "发行日期        0\n",
      "到期日期        0\n",
      "现金流发生日      0\n",
      "招标方式        0\n",
      "央票代码        0\n",
      "dtype: int64\n"
     ]
    },
    {
     "data": {
      "text/html": [
       "<div>\n",
       "<style scoped>\n",
       "    .dataframe tbody tr th:only-of-type {\n",
       "        vertical-align: middle;\n",
       "    }\n",
       "\n",
       "    .dataframe tbody tr th {\n",
       "        vertical-align: top;\n",
       "    }\n",
       "\n",
       "    .dataframe thead th {\n",
       "        text-align: right;\n",
       "    }\n",
       "</style>\n",
       "<table border=\"1\" class=\"dataframe\">\n",
       "  <thead>\n",
       "    <tr style=\"text-align: right;\">\n",
       "      <th></th>\n",
       "      <th>日期</th>\n",
       "      <th>操作类型</th>\n",
       "      <th>操作方向</th>\n",
       "      <th>发行总量(亿元)</th>\n",
       "      <th>期限</th>\n",
       "      <th>利率(%)</th>\n",
       "      <th>利率变动bp</th>\n",
       "      <th>发行日期</th>\n",
       "      <th>到期日期</th>\n",
       "      <th>现金流发生日</th>\n",
       "      <th>招标方式</th>\n",
       "      <th>央票代码</th>\n",
       "    </tr>\n",
       "  </thead>\n",
       "  <tbody>\n",
       "    <tr>\n",
       "      <th>4994</th>\n",
       "      <td>2022-12-29</td>\n",
       "      <td>逆回购</td>\n",
       "      <td>到期</td>\n",
       "      <td>40.00</td>\n",
       "      <td>7D</td>\n",
       "      <td>2.00</td>\n",
       "      <td>0.00</td>\n",
       "      <td>2022-12-22</td>\n",
       "      <td>2022-12-29</td>\n",
       "      <td>2022-12-29</td>\n",
       "      <td>利率招标</td>\n",
       "      <td>--</td>\n",
       "    </tr>\n",
       "    <tr>\n",
       "      <th>4995</th>\n",
       "      <td>2022-12-29</td>\n",
       "      <td>CBS</td>\n",
       "      <td>回笼</td>\n",
       "      <td>50.00</td>\n",
       "      <td>3M</td>\n",
       "      <td>2.35</td>\n",
       "      <td>0.00</td>\n",
       "      <td>2022-09-29</td>\n",
       "      <td>2022-12-29</td>\n",
       "      <td>2022-12-29</td>\n",
       "      <td>固定费率数量招标</td>\n",
       "      <td>2201009S</td>\n",
       "    </tr>\n",
       "    <tr>\n",
       "      <th>4996</th>\n",
       "      <td>2022-12-30</td>\n",
       "      <td>逆回购</td>\n",
       "      <td>发行</td>\n",
       "      <td>1,830.00</td>\n",
       "      <td>7D</td>\n",
       "      <td>2.00</td>\n",
       "      <td>0.00</td>\n",
       "      <td>2022-12-30</td>\n",
       "      <td>2023-01-06</td>\n",
       "      <td>2023-01-06</td>\n",
       "      <td>利率招标</td>\n",
       "      <td>--</td>\n",
       "    </tr>\n",
       "    <tr>\n",
       "      <th>4997</th>\n",
       "      <td>2022-12-30</td>\n",
       "      <td>逆回购</td>\n",
       "      <td>到期</td>\n",
       "      <td>20.00</td>\n",
       "      <td>7D</td>\n",
       "      <td>2.00</td>\n",
       "      <td>0.00</td>\n",
       "      <td>2022-12-23</td>\n",
       "      <td>2022-12-30</td>\n",
       "      <td>2022-12-30</td>\n",
       "      <td>利率招标</td>\n",
       "      <td>--</td>\n",
       "    </tr>\n",
       "    <tr>\n",
       "      <th>4998</th>\n",
       "      <td>--</td>\n",
       "      <td>净投放</td>\n",
       "      <td>--</td>\n",
       "      <td>27,550.00</td>\n",
       "      <td>--</td>\n",
       "      <td>--</td>\n",
       "      <td>--</td>\n",
       "      <td>--</td>\n",
       "      <td>--</td>\n",
       "      <td>--</td>\n",
       "      <td>--</td>\n",
       "      <td>--</td>\n",
       "    </tr>\n",
       "  </tbody>\n",
       "</table>\n",
       "</div>"
      ],
      "text/plain": [
       "              日期 操作类型 操作方向   发行总量(亿元)  期限 利率(%) 利率变动bp        发行日期  \\\n",
       "4994  2022-12-29  逆回购   到期      40.00  7D  2.00   0.00  2022-12-22   \n",
       "4995  2022-12-29  CBS   回笼      50.00  3M  2.35   0.00  2022-09-29   \n",
       "4996  2022-12-30  逆回购   发行   1,830.00  7D  2.00   0.00  2022-12-30   \n",
       "4997  2022-12-30  逆回购   到期      20.00  7D  2.00   0.00  2022-12-23   \n",
       "4998          --  净投放   --  27,550.00  --    --     --          --   \n",
       "\n",
       "            到期日期      现金流发生日      招标方式      央票代码  \n",
       "4994  2022-12-29  2022-12-29      利率招标        --  \n",
       "4995  2022-12-29  2022-12-29  固定费率数量招标  2201009S  \n",
       "4996  2023-01-06  2023-01-06      利率招标        --  \n",
       "4997  2022-12-30  2022-12-30      利率招标        --  \n",
       "4998          --          --        --        --  "
      ]
     },
     "execution_count": 2,
     "metadata": {},
     "output_type": "execute_result"
    }
   ],
   "source": [
    "OMO = pd.read_csv('公开市场操作.csv')\n",
    "OMO = OMO.drop(index = OMO[(OMO['日期'].isnull()) | (OMO['操作类型'].isnull())].index)\n",
    "print(OMO.isnull().sum())\n",
    "OMO.tail()"
   ]
  },
  {
   "cell_type": "code",
   "execution_count": 3,
   "metadata": {},
   "outputs": [
    {
     "data": {
      "text/plain": [
       "array([False])"
      ]
     },
     "execution_count": 3,
     "metadata": {},
     "output_type": "execute_result"
    }
   ],
   "source": [
    "OMO[1:2].index.duplicated()"
   ]
  },
  {
   "cell_type": "code",
   "execution_count": 4,
   "metadata": {},
   "outputs": [
    {
     "name": "stdout",
     "output_type": "stream",
     "text": [
      "Index(['日期', '操作类型', '操作方向', '发行总量(亿元)', '期限', '利率(%)', '利率变动bp', '发行日期',\n",
      "       '到期日期', '现金流发生日', '招标方式', '央票代码'],\n",
      "      dtype='object')\n"
     ]
    }
   ],
   "source": [
    "print(OMO.columns)"
   ]
  },
  {
   "cell_type": "markdown",
   "metadata": {},
   "source": [
    "找到并统计每一列未被记录的数据(--)进行处理. 对于日期，可以通过上一日加一或下一日减一补全."
   ]
  },
  {
   "cell_type": "code",
   "execution_count": 5,
   "metadata": {},
   "outputs": [
    {
     "name": "stdout",
     "output_type": "stream",
     "text": [
      "The number of unrecorded values are:\n",
      "\n",
      " 日期             1\n",
      "操作类型           0\n",
      "操作方向           1\n",
      "发行总量(亿元)       0\n",
      "期限             1\n",
      "利率(%)          1\n",
      "利率变动bp        79\n",
      "发行日期           1\n",
      "到期日期        2717\n",
      "现金流发生日         1\n",
      "招标方式          19\n",
      "央票代码        4794\n",
      "dtype: int64\n"
     ]
    }
   ],
   "source": [
    "print('The number of unrecorded values are:\\n\\n', OMO[OMO == '--'].count())"
   ]
  },
  {
   "cell_type": "code",
   "execution_count": 6,
   "metadata": {},
   "outputs": [
    {
     "data": {
      "text/plain": [
       "0"
      ]
     },
     "execution_count": 6,
     "metadata": {},
     "output_type": "execute_result"
    }
   ],
   "source": [
    "for i in OMO[OMO['日期'] == '--'].index:\n",
    "    OMO.loc[i, '日期'] = pd.to_datetime(OMO.loc[i - 1, '日期']) + pd.to_timedelta(1, unit = 'd') \n",
    "    \n",
    "OMO['日期'] = pd.to_datetime(OMO['日期'])\n",
    "OMO['日期'].isnull().sum()"
   ]
  },
  {
   "cell_type": "markdown",
   "metadata": {},
   "source": [
    "# 公司债券利率与公开市场操作"
   ]
  },
  {
   "cell_type": "code",
   "execution_count": 7,
   "metadata": {},
   "outputs": [],
   "source": [
    "BoC = pd.read_csv('证券公司债.csv')"
   ]
  },
  {
   "cell_type": "code",
   "execution_count": 8,
   "metadata": {
    "scrolled": true
   },
   "outputs": [],
   "source": [
    "BoC = BoC.drop(index = BoC[BoC['发行日期'].isnull()].index)"
   ]
  },
  {
   "cell_type": "code",
   "execution_count": 9,
   "metadata": {},
   "outputs": [],
   "source": [
    "BoC['发行日期'] = pd.to_datetime(BoC['发行日期'])"
   ]
  },
  {
   "cell_type": "code",
   "execution_count": 10,
   "metadata": {},
   "outputs": [
    {
     "data": {
      "text/plain": [
       "1551             2016-01-19\n",
       "1552    2016-01-20 00:00:00\n",
       "Name: 起息日期, dtype: object"
      ]
     },
     "execution_count": 10,
     "metadata": {},
     "output_type": "execute_result"
    }
   ],
   "source": [
    "t_idx = BoC[BoC['起息日期'] == '--'].index\n",
    "BoC.loc[t_idx, '起息日期'] = pd.to_datetime(BoC.loc[t_idx[0] - 1, '起息日期']) + pd.to_timedelta(1, unit = 'd')\n",
    "BoC.loc[[t_idx[0] - 1, t_idx[0]], '起息日期']"
   ]
  },
  {
   "cell_type": "code",
   "execution_count": 11,
   "metadata": {},
   "outputs": [
    {
     "data": {
      "text/plain": [
       "1551             2016-10-15\n",
       "1552    2016-10-16 00:00:00\n",
       "Name: 到期日期, dtype: object"
      ]
     },
     "execution_count": 11,
     "metadata": {},
     "output_type": "execute_result"
    }
   ],
   "source": [
    "t_idx = BoC[BoC['到期日期'] == '--'].index\n",
    "BoC.loc[t_idx, '到期日期'] = pd.to_datetime(pd.to_datetime(BoC.loc[t_idx[0] - 1, '到期日期']) + pd.to_timedelta(1, unit = 'd'))\n",
    "BoC.loc[[t_idx[0] - 1, t_idx[0]], '到期日期']"
   ]
  },
  {
   "cell_type": "code",
   "execution_count": 12,
   "metadata": {},
   "outputs": [],
   "source": [
    "BoC['起息日期'] = pd.to_datetime(BoC['起息日期'].astype('string'))\n",
    "BoC['到期日期'] = pd.to_datetime(BoC['到期日期'].astype('string'))    "
   ]
  },
  {
   "cell_type": "code",
   "execution_count": 13,
   "metadata": {},
   "outputs": [],
   "source": [
    "# BoC['计息期限'] = BoC['到期日期'] - BoC['发行日期']\n",
    "# BoC['计息期限']"
   ]
  },
  {
   "cell_type": "code",
   "execution_count": 14,
   "metadata": {},
   "outputs": [
    {
     "data": {
      "text/plain": [
       "Index(['债券代码', '债券简称', '发行日期', '起息日期', '到期日期', '发行期限(年)', '特殊期限(年)', '发行总额(亿)',\n",
       "       '当期票面利率(%)', '票面利率说明', '最新主体评级', '最新债项评级', '利率类型', '付息频率(月/次)', '发行方式',\n",
       "       '主承销商', '特殊条款', '特殊条款说明', '债券全称', '发行人', '交易市场', '债券类型', '债券代码列表'],\n",
       "      dtype='object')"
      ]
     },
     "execution_count": 14,
     "metadata": {},
     "output_type": "execute_result"
    }
   ],
   "source": [
    "BoC.columns"
   ]
  },
  {
   "cell_type": "markdown",
   "metadata": {},
   "source": [
    "## 对市场操作编码"
   ]
  },
  {
   "cell_type": "markdown",
   "metadata": {},
   "source": [
    "在*公开市场操作*表，将市场操作编码. 先建立字典将**操作类型**与**操作方向**匹配. 除去属于期末统计性质的“净投放”."
   ]
  },
  {
   "cell_type": "code",
   "execution_count": 15,
   "metadata": {},
   "outputs": [],
   "source": [
    "OMO = OMO.drop(index = OMO[OMO['操作类型'] == '净投放'].index)"
   ]
  },
  {
   "cell_type": "code",
   "execution_count": 16,
   "metadata": {
    "scrolled": true
   },
   "outputs": [
    {
     "data": {
      "text/plain": [
       "{'CBS': array(['投放', '回笼'], dtype=object),\n",
       " 'MLF': array(['投放', '回笼'], dtype=object),\n",
       " 'SLO': array(['投放', '回笼'], dtype=object),\n",
       " 'TMLF': array(['投放', '回笼'], dtype=object),\n",
       " '国库现金定存': array(['到期', '发行'], dtype=object),\n",
       " '央行票据': array(['到期', '发行'], dtype=object),\n",
       " '正回购': array(['到期', '发行'], dtype=object),\n",
       " '逆回购': array(['发行', '到期'], dtype=object)}"
      ]
     },
     "execution_count": 16,
     "metadata": {},
     "output_type": "execute_result"
    }
   ],
   "source": [
    "all_oprt = {}\n",
    "for subs in OMO.groupby(by = '操作类型'):\n",
    "    all_oprt[subs[0]] = subs[1]['操作方向'].unique()\n",
    "all_oprt"
   ]
  },
  {
   "cell_type": "markdown",
   "metadata": {},
   "source": [
    "根据市场操作对流动性的影响：按照不同政策的不同作用时间 **（期限）** 设置不同长度的作用数组：按照不同方向，即对流动性影响的不同设置递减正值（提高流动性）或递增负值（减少流动性）：\n",
    "\n",
    "**CBS央行票据互换工具**：投放增加流动性，回笼减少流动性；  \n",
    "**MLF中期借贷便利/TMLF定向中期借贷便利**：投放增加流动性，回笼减少；  \n",
    "**SLO短期流动性调节工具**：投放增加，回笼减少；  \n",
    "**国库现金定存**：到期减少，发行增加；  \n",
    "**央行票据**：到期增加，发行减少；  \n",
    "**正回购**：到期增加，发行减少；  \n",
    "**逆回购**：发行增加；到期减少；\n",
    "\n",
    "先对各个操作与方向的流动性影响定性：如果发行或投放操作增加流动性，则为1，减少则为-1， 在发行期限上向0均匀减小或增大。"
   ]
  },
  {
   "cell_type": "code",
   "execution_count": 17,
   "metadata": {},
   "outputs": [],
   "source": [
    "# code_oprt = all_oprt.copy()\n",
    "# for k, v in code_oprt.items():\n",
    "#     if k in ['CBS', 'MLF', 'TMLF', 'SLO', '央行票据', '正回购', '逆回购']:\n",
    "#         code_oprt[k] = {v[0]: 1, v[1]: 0}\n",
    "#     elif k == '国库现金定存':\n",
    "#         code_oprt[k] = {v[0]: 0, v[1]: 1}\n",
    "# code_oprt"
   ]
  },
  {
   "cell_type": "code",
   "execution_count": 18,
   "metadata": {},
   "outputs": [
    {
     "data": {
      "text/plain": [
       "{'CBS': {'投放': 1, '回笼': 0},\n",
       " 'MLF': {'投放': 1, '回笼': 0},\n",
       " 'SLO': {'投放': 1, '回笼': 0},\n",
       " 'TMLF': {'投放': 1, '回笼': 0},\n",
       " '国库现金定存': {'到期': 0, '发行': 1},\n",
       " '央行票据': {'到期': 0, '发行': -1},\n",
       " '正回购': {'到期': 0, '发行': -1},\n",
       " '逆回购': {'发行': 1, '到期': 0}}"
      ]
     },
     "execution_count": 18,
     "metadata": {},
     "output_type": "execute_result"
    }
   ],
   "source": [
    "code_oprt = all_oprt.copy()\n",
    "for k, v in code_oprt.items():\n",
    "    if k in ['CBS', 'MLF', 'TMLF', 'SLO', '逆回购']:\n",
    "        code_oprt[k] = {v[0]: 1, v[1]: 0}\n",
    "    elif k in ['央行票据', '正回购']:\n",
    "        code_oprt[k] = {v[0]: 0, v[1]: -1}\n",
    "    elif k == '国库现金定存':\n",
    "        code_oprt[k] = {v[0]: 0, v[1]: 1}\n",
    "code_oprt"
   ]
  },
  {
   "cell_type": "markdown",
   "metadata": {},
   "source": [
    "随后创建时间轴。"
   ]
  },
  {
   "cell_type": "code",
   "execution_count": 19,
   "metadata": {},
   "outputs": [
    {
     "data": {
      "text/plain": [
       "Index(['日期', '操作类型', '操作方向', '发行总量(亿元)', '期限', '利率(%)', '利率变动bp', '发行日期',\n",
       "       '到期日期', '现金流发生日', '招标方式', '央票代码'],\n",
       "      dtype='object')"
      ]
     },
     "execution_count": 19,
     "metadata": {},
     "output_type": "execute_result"
    }
   ],
   "source": [
    "t_axis = [dt for dt in pd.date_range(OMO['发行日期'].min(), OMO['日期'].max())] # 先创建时间域\n",
    "OMO.columns"
   ]
  },
  {
   "cell_type": "markdown",
   "metadata": {},
   "source": [
    "再对不同政操作策分别创建时间轴，记录政策发起时间和其对流动性影响力的变化，储存于表格。\n",
    "\n",
    "对操作的编码有两种：\n",
    "1. 在时间域选出不同政策实施的一对时间、两次操作方向。定位一对操作，方法是：因为对于给定的一种政策，在发行-到期两个时间点不会重复操作，故定位有相同“发行-到期日期”的一组（两行）数据；又知道一对操作是存在必然先后顺序的（如投放-回笼），所以提取独立发行日期和到期日期以直接定位作用时间段。\n",
    "\n",
    "2. 按同一央票代码定位。当到期日期不存在，那么就难以通过发行-到期确定一对操作，则考虑用央票代码查找。\n",
    "\n",
    "**如有以上两种方法都无法确定的则跳过编码。**\n",
    "\n",
    "“发行-到期日期”只是计划日期，但到期日可能是逾期的，所以不能仅仅依照计划日期匹配，需要在找到两个实际结算日期（“日期”）后按照准确到期日计算。\n",
    "\n",
    "同时，创建一列记录每行数据是否被编码。"
   ]
  },
  {
   "cell_type": "code",
   "execution_count": 20,
   "metadata": {},
   "outputs": [],
   "source": [
    "def terms(t):\n",
    "    t = t.strip()\n",
    "    if t[-1] == 'M':\n",
    "        return int(t[: -1]) * 30\n",
    "    elif t[-1] == 'Y':\n",
    "        return int(t[: -1]) * 365\n",
    "    else: return int(t[: -1])"
   ]
  },
  {
   "cell_type": "code",
   "execution_count": 21,
   "metadata": {
    "scrolled": true
   },
   "outputs": [],
   "source": [
    "Oprt_taxis = pd.DataFrame(columns = all_oprt.keys(), index = t_axis)\n",
    "Oprt_taxis.fillna(0, inplace = True)\n",
    "for i in Oprt_taxis.columns:\n",
    "    oprti = OMO[OMO['操作类型'] == i].copy()\n",
    "    dpair = {}\n",
    "\n",
    "    for p in oprti[['发行日期', '到期日期']].values:\n",
    "        dpair[p[0] + ' ' + p[1]] = p\n",
    "    for tpair in dpair.values(): \n",
    "#        print(tpair)\n",
    "\n",
    "#         print(oprti[oprti['日期'] == tpair[0]]['操作方向'].values)\n",
    "#         break\n",
    "#     break\n",
    "        tgt = oprti[(oprti['发行日期'] == tpair[0]) & (oprti['到期日期'] == tpair[1])]\n",
    "        if tpair[1] != '--':\n",
    "            if len(tgt) == 2:\n",
    "                Oprt_taxis.loc[pd.date_range(pd.to_datetime(tgt['日期'].values[0]), pd.to_datetime(tgt['日期'].values[1])), i] \\\n",
    "                += np.linspace(code_oprt[i][tgt['操作方向'].values[0]], code_oprt[i][tgt['操作方向'].values[1]], \n",
    "                                num = abs((pd.to_datetime(tgt['日期'].values[0]) - pd.to_datetime(tgt['日期'].values[1])).days) + 1)\n",
    "            elif len(tgt) == 1:\n",
    "                if tgt['操作方向'].values[0] == '到期' or tgt['操作方向'].values[0] == '回笼':\n",
    "                    Oprt_taxis.loc[pd.date_range(tgt['日期'].values[0] - pd.to_timedelta(terms(tgt['期限'].values[0]) - 1, unit = 'd'), tgt['日期'].values[0]), i]\\\n",
    "                    += np.linspace((-1 * code_oprt[i][tgt['操作方向'].values[0]] + 1), code_oprt[i][tgt['操作方向'].values[0]], \n",
    "                    num = terms(tgt['期限'].values[0]))[max(0, -(tgt['日期'].values[0] - pd.to_timedelta(terms(tgt['期限'].values[0]), unit = 'd') - pd.to_datetime(Oprt_taxis.index[0])).days) : ]\n",
    "                else:\n",
    "                    Oprt_taxis.loc[pd.date_range(pd.to_datetime(tgt['日期'].values[0]), Oprt_taxis.index[-1]), i] += np.linspace(code_oprt[i][tgt['操作方向'].values[0]], \n",
    "                    (code_oprt[i][tgt['操作方向'].values[0]]) * (-1) + 1, \n",
    "                    num = terms(tgt['期限'].values[0]))[: abs((pd.to_datetime(Oprt_taxis.index[-1]) - pd.to_datetime(tgt['日期'].values[0])).days) + 1]\n",
    "            OMO.loc[tgt.index, 'if encoded'] = True\n",
    "\n",
    "        else:\n",
    "            if len(tgt) == 2:\n",
    "                tgt_idx = tgt[(tgt['操作方向'] == '回笼') | (tgt['操作方向'] == '到期')].index[0]\n",
    "                Oprt_taxis.loc[pd.date_range(pd.to_datetime(tgt.loc[tgt_idx, '发行日期']), pd.to_datetime(tgt.loc[tgt_idx, '日期'])), i] += np.linspace(code_oprt[i][tgt['操作方向'].values[0]], \n",
    "                    (code_oprt[i][tgt['操作方向'].values[1]]), \n",
    "                    num = int(abs(pd.to_datetime(tgt.loc[tgt_idx, '发行日期']) - pd.to_datetime(tgt.loc[tgt_idx, '日期'])).days) + 1)\n",
    "            else: \n",
    "                if tgt['操作方向'].values[0] == '到期' or tgt['操作方向'].values[0] == '回笼':\n",
    "                    Oprt_taxis.loc[pd.date_range(tgt['日期'].values[0] - pd.to_timedelta(terms(tgt['期限'].values[0]) - 1, unit = 'd'), tgt['日期'].values[0]), i]\\\n",
    "                    += np.linspace((-1 * code_oprt[i][tgt['操作方向'].values[0]] + 1), code_oprt[i][tgt['操作方向'].values[0]], \n",
    "                    num = terms(tgt['期限'].values[0]))[terms(tgt['期限'].values[0]) - min(terms(tgt['期限'].values[0]), (tgt['日期'].values[0] - Oprt_taxis.index[0]).days + 1) : ] ##########\n",
    "                else:\n",
    "                    Oprt_taxis.loc[pd.date_range(tgt['日期'].values[0], tgt['日期'].values[0] + pd.to_timedelta(terms(tgt['期限'].values[0]) - 1, unit = 'd')), i] += np.linspace(code_oprt[i][tgt['操作方向'].values[0]], \n",
    "                    (code_oprt[i][tgt['操作方向'].values[0]]) * (-1) + 1, \n",
    "                    num = terms(tgt['期限'].values[0]))[: abs((Oprt_taxis.index[-1] - pd.to_datetime(tgt['日期'].values[0])).days) + 1]\n",
    "            OMO.loc[tgt.index, 'if encoded'] = True\n",
    "\n",
    "        \n"
   ]
  },
  {
   "cell_type": "markdown",
   "metadata": {},
   "source": [
    "接下来，查找每个公开市场操作**未被编码的**记录数据。\n",
    "\n",
    "对于每一条未匹配数据，使用“发行-到期日期”在所有数据中寻找可能存在的匹配错误的另一半数据。如有匹配错误，删除并重新编码；如没有成对数据，则单独匹配。"
   ]
  },
  {
   "cell_type": "code",
   "execution_count": 22,
   "metadata": {},
   "outputs": [
    {
     "data": {
      "text/plain": [
       "{}"
      ]
     },
     "execution_count": 22,
     "metadata": {},
     "output_type": "execute_result"
    }
   ],
   "source": [
    "unencoded = {}\n",
    "for i in Oprt_taxis.columns:\n",
    "    temp = OMO[OMO['if encoded'].isnull() & (OMO['操作类型'] == i)]\n",
    "    if len(temp) != 0:\n",
    "        unencoded[i] = temp.copy()\n",
    "unencoded"
   ]
  },
  {
   "cell_type": "markdown",
   "metadata": {},
   "source": [
    "此时可以确认所有操作数据均已编码。"
   ]
  },
  {
   "cell_type": "markdown",
   "metadata": {},
   "source": [
    "## 相关性分析"
   ]
  },
  {
   "cell_type": "markdown",
   "metadata": {},
   "source": [
    "随后，按照发行年限与评级分类债券进行相关性分析。按发行年限分类：1年以下，1-2年，2年-3年，3年-5年，以及更长年限。按评级：'AAA', 'AA+', 'A-1', 'AA'。"
   ]
  },
  {
   "cell_type": "code",
   "execution_count": 23,
   "metadata": {},
   "outputs": [],
   "source": [
    "BoC = BoC.drop(index = BoC[BoC['当期票面利率(%)'] == '--'].index)"
   ]
  },
  {
   "cell_type": "code",
   "execution_count": 24,
   "metadata": {
    "scrolled": true
   },
   "outputs": [],
   "source": [
    "BoC['当期票面利率(%)'] = BoC['当期票面利率(%)'].map(float)\n",
    "b_t1 = BoC[BoC['发行期限(年)'] <= 1]\n",
    "b_t12 = BoC[(1 < BoC['发行期限(年)']) & (BoC['发行期限(年)'] <= 2)]\n",
    "b_t23 = BoC[(2 < BoC['发行期限(年)']) & (BoC['发行期限(年)'] <= 3)]\n",
    "b_t35 = BoC[(3 < BoC['发行期限(年)']) & (BoC['发行期限(年)'] <= 5)]\n",
    "b_tl = BoC[BoC['发行期限(年)'] > 5]\n",
    "\n",
    "b_names = {}\n",
    "b_names['小于1年'] = b_t1;\n",
    "b_names['1-2年'] = b_t12;\n",
    "b_names['2-3年'] = b_t23;\n",
    "b_names['3-5年'] = b_t35;\n",
    "b_names['五年以上'] = b_tl\n",
    "\n",
    "# 按评级\n",
    "for lv in BoC['最新债项评级'].unique():\n",
    "    if lv == '--':\n",
    "        continue\n",
    "    b_names[lv] = BoC[BoC['最新债项评级'] == lv]"
   ]
  },
  {
   "cell_type": "markdown",
   "metadata": {},
   "source": [
    "计算公开市场操作影响的流动性与各类债券利率的Pearson、Spearman与Kendall相关系数，将所有结果分别放入表格，并绘制color map。"
   ]
  },
  {
   "cell_type": "code",
   "execution_count": 37,
   "metadata": {},
   "outputs": [],
   "source": [
    "def results(crlt, b_names, Oprt_taxis):\n",
    "    res_ = pd.DataFrame(np.zeros((len(b_names.keys()), len(Oprt_taxis.columns))), columns = Oprt_taxis.columns, index = b_names.keys())\n",
    "    if crlt == 'Pearson':\n",
    "        for b_name, bnd in b_names.items():\n",
    "            temp = Oprt_taxis.loc[pd.to_datetime(bnd['发行日期'])].copy()\n",
    "            temp_br = bnd['当期票面利率(%)']\n",
    "            for i in Oprt_taxis.columns:\n",
    "                res_.loc[b_name, i] = scipy.stats.pearsonr(temp_br, temp[i]).statistic\n",
    "    elif crlt == 'Spearman':\n",
    "        for b_name, bnd in b_names.items():\n",
    "            temp = Oprt_taxis.loc[pd.to_datetime(bnd['发行日期'])].copy()\n",
    "            temp_br = bnd['当期票面利率(%)']\n",
    "            for i in Oprt_taxis.columns:\n",
    "                res_.loc[b_name, i] = scipy.stats.spearmanr(temp_br, temp[i]).correlation\n",
    "    else: \n",
    "        for b_name, bnd in b_names.items():\n",
    "            temp = Oprt_taxis.loc[pd.to_datetime(bnd['发行日期'])].copy()\n",
    "            temp_br = bnd['当期票面利率(%)']\n",
    "            for i in Oprt_taxis.columns:\n",
    "                res_.loc[b_name, i] = scipy.stats.kendalltau(temp_br, temp[i]).correlation\n",
    "                \n",
    "    plt.figure(figsize = (6, 7))\n",
    "    plt.imshow(res_, cmap = 'brg_r')\n",
    "    plt.xticks(np.arange(0, len(res_.columns.values)), res_.columns.values, rotation = 30)\n",
    "    plt.yticks(np.arange(0, len(res_)), b_names.keys())\n",
    "    plt.xlabel('公开市场操作类型')\n",
    "    plt.ylabel('债券分类：发行期限或评级')\n",
    "    plt.title(f'公开市场操作影响下 流动性与各类公司债的{crlt}系数')\n",
    "    plt.colorbar()\n",
    "    res_.to_csv(f'Result {crlt}.csv')\n",
    "    \n",
    "    return res_"
   ]
  },
  {
   "cell_type": "code",
   "execution_count": 39,
   "metadata": {
    "scrolled": true
   },
   "outputs": [
    {
     "name": "stderr",
     "output_type": "stream",
     "text": [
      "F:\\Anaconda\\lib\\site-packages\\scipy\\stats\\_stats_py.py:4424: ConstantInputWarning: An input array is constant; the correlation coefficient is not defined.\n",
      "  warnings.warn(stats.ConstantInputWarning(msg))\n",
      "F:\\Anaconda\\lib\\site-packages\\scipy\\stats\\_stats_py.py:4424: ConstantInputWarning: An input array is constant; the correlation coefficient is not defined.\n",
      "  warnings.warn(stats.ConstantInputWarning(msg))\n",
      "F:\\Anaconda\\lib\\site-packages\\scipy\\stats\\_stats_py.py:4424: ConstantInputWarning: An input array is constant; the correlation coefficient is not defined.\n",
      "  warnings.warn(stats.ConstantInputWarning(msg))\n",
      "F:\\Anaconda\\lib\\site-packages\\scipy\\stats\\_stats_py.py:4424: ConstantInputWarning: An input array is constant; the correlation coefficient is not defined.\n",
      "  warnings.warn(stats.ConstantInputWarning(msg))\n",
      "F:\\Anaconda\\lib\\site-packages\\scipy\\stats\\_stats_py.py:4878: ConstantInputWarning: An input array is constant; the correlation coefficient is not defined.\n",
      "  warnings.warn(stats.ConstantInputWarning(warn_msg))\n",
      "F:\\Anaconda\\lib\\site-packages\\scipy\\stats\\_stats_py.py:4878: ConstantInputWarning: An input array is constant; the correlation coefficient is not defined.\n",
      "  warnings.warn(stats.ConstantInputWarning(warn_msg))\n",
      "F:\\Anaconda\\lib\\site-packages\\scipy\\stats\\_stats_py.py:4878: ConstantInputWarning: An input array is constant; the correlation coefficient is not defined.\n",
      "  warnings.warn(stats.ConstantInputWarning(warn_msg))\n",
      "F:\\Anaconda\\lib\\site-packages\\scipy\\stats\\_stats_py.py:4878: ConstantInputWarning: An input array is constant; the correlation coefficient is not defined.\n",
      "  warnings.warn(stats.ConstantInputWarning(warn_msg))\n"
     ]
    },
    {
     "data": {
      "image/png": "[encoded data removed]",
      "text/plain": [
       "<Figure size 432x504 with 2 Axes>"
      ]
     },
     "metadata": {
      "needs_background": "light"
     },
     "output_type": "display_data"
    },
    {
     "data": {
      "image/png": "[encoded data removed]",
      "text/plain": [
       "<Figure size 432x504 with 2 Axes>"
      ]
     },
     "metadata": {
      "needs_background": "light"
     },
     "output_type": "display_data"
    },
    {
     "data": {
      "image/png": "[encoded data removed]",
      "text/plain": [
       "<Figure size 432x504 with 2 Axes>"
      ]
     },
     "metadata": {
      "needs_background": "light"
     },
     "output_type": "display_data"
    }
   ],
   "source": [
    "all_results = {}\n",
    "for c in ['Pearson', 'Spearman', 'Kendall']:\n",
    "    res = results(c, b_names, Oprt_taxis)\n",
    "    all_results[c] = res"
   ]
  },
  {
   "cell_type": "code",
   "execution_count": 45,
   "metadata": {
    "scrolled": false
   },
   "outputs": [
    {
     "data": {
      "text/html": [
       "<div>\n",
       "<style scoped>\n",
       "    .dataframe tbody tr th:only-of-type {\n",
       "        vertical-align: middle;\n",
       "    }\n",
       "\n",
       "    .dataframe tbody tr th {\n",
       "        vertical-align: top;\n",
       "    }\n",
       "\n",
       "    .dataframe thead th {\n",
       "        text-align: right;\n",
       "    }\n",
       "</style>\n",
       "<table border=\"1\" class=\"dataframe\">\n",
       "  <thead>\n",
       "    <tr style=\"text-align: right;\">\n",
       "      <th></th>\n",
       "      <th>CBS</th>\n",
       "      <th>MLF</th>\n",
       "      <th>SLO</th>\n",
       "      <th>TMLF</th>\n",
       "      <th>国库现金定存</th>\n",
       "      <th>央行票据</th>\n",
       "      <th>正回购</th>\n",
       "      <th>逆回购</th>\n",
       "    </tr>\n",
       "  </thead>\n",
       "  <tbody>\n",
       "    <tr>\n",
       "      <th>小于1年</th>\n",
       "      <td>-0.591633</td>\n",
       "      <td>0.021573</td>\n",
       "      <td>0.179699</td>\n",
       "      <td>-0.185114</td>\n",
       "      <td>0.420908</td>\n",
       "      <td>-0.283468</td>\n",
       "      <td>-0.095797</td>\n",
       "      <td>-0.027687</td>\n",
       "    </tr>\n",
       "    <tr>\n",
       "      <th>1-2年</th>\n",
       "      <td>-0.417379</td>\n",
       "      <td>0.118256</td>\n",
       "      <td>NaN</td>\n",
       "      <td>-0.097638</td>\n",
       "      <td>0.298624</td>\n",
       "      <td>-0.054840</td>\n",
       "      <td>NaN</td>\n",
       "      <td>0.123011</td>\n",
       "    </tr>\n",
       "    <tr>\n",
       "      <th>2-3年</th>\n",
       "      <td>-0.393930</td>\n",
       "      <td>0.144226</td>\n",
       "      <td>NaN</td>\n",
       "      <td>0.036261</td>\n",
       "      <td>0.255848</td>\n",
       "      <td>-0.115375</td>\n",
       "      <td>-0.103890</td>\n",
       "      <td>-0.006120</td>\n",
       "    </tr>\n",
       "    <tr>\n",
       "      <th>3-5年</th>\n",
       "      <td>-0.404369</td>\n",
       "      <td>-0.134931</td>\n",
       "      <td>0.115667</td>\n",
       "      <td>-0.135434</td>\n",
       "      <td>0.315005</td>\n",
       "      <td>-0.341243</td>\n",
       "      <td>-0.235879</td>\n",
       "      <td>-0.106576</td>\n",
       "    </tr>\n",
       "    <tr>\n",
       "      <th>五年以上</th>\n",
       "      <td>-0.437141</td>\n",
       "      <td>-0.179347</td>\n",
       "      <td>NaN</td>\n",
       "      <td>-0.104920</td>\n",
       "      <td>0.330209</td>\n",
       "      <td>-0.278269</td>\n",
       "      <td>-0.387233</td>\n",
       "      <td>-0.118368</td>\n",
       "    </tr>\n",
       "    <tr>\n",
       "      <th>AAA</th>\n",
       "      <td>-0.389393</td>\n",
       "      <td>0.030955</td>\n",
       "      <td>0.061047</td>\n",
       "      <td>-0.028711</td>\n",
       "      <td>0.282602</td>\n",
       "      <td>-0.187392</td>\n",
       "      <td>-0.181186</td>\n",
       "      <td>-0.027118</td>\n",
       "    </tr>\n",
       "    <tr>\n",
       "      <th>AA+</th>\n",
       "      <td>-0.457818</td>\n",
       "      <td>-0.022912</td>\n",
       "      <td>-0.085864</td>\n",
       "      <td>-0.311500</td>\n",
       "      <td>0.334313</td>\n",
       "      <td>-0.098957</td>\n",
       "      <td>-0.149293</td>\n",
       "      <td>0.100758</td>\n",
       "    </tr>\n",
       "    <tr>\n",
       "      <th>A-1</th>\n",
       "      <td>-0.549268</td>\n",
       "      <td>0.235193</td>\n",
       "      <td>0.040443</td>\n",
       "      <td>0.018412</td>\n",
       "      <td>0.295027</td>\n",
       "      <td>-0.215232</td>\n",
       "      <td>-0.084096</td>\n",
       "      <td>0.014053</td>\n",
       "    </tr>\n",
       "    <tr>\n",
       "      <th>AA</th>\n",
       "      <td>0.497245</td>\n",
       "      <td>-0.028172</td>\n",
       "      <td>NaN</td>\n",
       "      <td>0.516398</td>\n",
       "      <td>0.061721</td>\n",
       "      <td>0.239046</td>\n",
       "      <td>NaN</td>\n",
       "      <td>-0.309890</td>\n",
       "    </tr>\n",
       "  </tbody>\n",
       "</table>\n",
       "</div>"
      ],
      "text/plain": [
       "           CBS       MLF       SLO      TMLF    国库现金定存      央行票据       正回购  \\\n",
       "小于1年 -0.591633  0.021573  0.179699 -0.185114  0.420908 -0.283468 -0.095797   \n",
       "1-2年 -0.417379  0.118256       NaN -0.097638  0.298624 -0.054840       NaN   \n",
       "2-3年 -0.393930  0.144226       NaN  0.036261  0.255848 -0.115375 -0.103890   \n",
       "3-5年 -0.404369 -0.134931  0.115667 -0.135434  0.315005 -0.341243 -0.235879   \n",
       "五年以上 -0.437141 -0.179347       NaN -0.104920  0.330209 -0.278269 -0.387233   \n",
       "AAA  -0.389393  0.030955  0.061047 -0.028711  0.282602 -0.187392 -0.181186   \n",
       "AA+  -0.457818 -0.022912 -0.085864 -0.311500  0.334313 -0.098957 -0.149293   \n",
       "A-1  -0.549268  0.235193  0.040443  0.018412  0.295027 -0.215232 -0.084096   \n",
       "AA    0.497245 -0.028172       NaN  0.516398  0.061721  0.239046       NaN   \n",
       "\n",
       "           逆回购  \n",
       "小于1年 -0.027687  \n",
       "1-2年  0.123011  \n",
       "2-3年 -0.006120  \n",
       "3-5年 -0.106576  \n",
       "五年以上 -0.118368  \n",
       "AAA  -0.027118  \n",
       "AA+   0.100758  \n",
       "A-1   0.014053  \n",
       "AA   -0.309890  "
      ]
     },
     "execution_count": 45,
     "metadata": {},
     "output_type": "execute_result"
    }
   ],
   "source": [
    "all_results['Kendall']"
   ]
  },
  {
   "cell_type": "markdown",
   "metadata": {},
   "source": [
    "不同相关系数对结果定性分析影响不大。由此可以得到以下结论：\n",
    "1. 除AA级债券，其他公司债发行利率与CBS导致的市场流动性呈负相关：市场流动性低，债券利率高；反之，利率低；  \n",
    "CBS与小于一年、A-1级债的相关性更显著。\n",
    "2. 除AA级，各类债券利率与逆回购影响下流动性也呈负相关，但只有A-1级较显著。\n",
    "3. 除AA级，各类债券利率与国库现金定存影响下流动性呈正相关。\n",
    "3. AA级债券利率与市场流动性变化往往与其他债券不同：与CBS、TMLF对流动性的影响呈较显著的正相关：流动相较高时，债券利率较高；流动性低，债券利率也高。\n",
    "4. 长期债券（3-5年、5年以上）利率与央行票据、正回购呈不显著的负相关。\n",
    "5. 其他情况下，流动性与各类债券利率没有显著相关性。"
   ]
  },
  {
   "cell_type": "markdown",
   "metadata": {},
   "source": [
    "# 结果分析"
   ]
  },
  {
   "cell_type": "markdown",
   "metadata": {},
   "source": [
    "对流动性影响相似的政策对同类债券利率的影响可能是不一样的，这可能与操作特有的现金流规模、发行期限有关。"
   ]
  },
  {
   "cell_type": "code",
   "execution_count": 27,
   "metadata": {},
   "outputs": [],
   "source": [
    "OMO['期限'] = OMO['期限'].map(terms)\n",
    "OMO['发行总量(亿元)'] = OMO['发行总量(亿元)'].apply(lambda s: s.replace(',', '')).map(float)"
   ]
  },
  {
   "cell_type": "code",
   "execution_count": 28,
   "metadata": {},
   "outputs": [],
   "source": [
    "avg_amt = {}\n",
    "avg_term = {}\n",
    "iss_time = {}\n",
    "for oprt in OMO.groupby('操作类型'):\n",
    "    avg_amt[oprt[0]] = oprt[1]['发行总量(亿元)'].map(float).mean()\n",
    "    avg_term[oprt[0]] = oprt[1]['期限'].map(float).mean()\n",
    "    iss_time[oprt[0]] = len(oprt[1])"
   ]
  },
  {
   "cell_type": "code",
   "execution_count": 29,
   "metadata": {},
   "outputs": [
    {
     "name": "stdout",
     "output_type": "stream",
     "text": [
      "各类市场操作平均现金规模 {'CBS': 49.51807228915663, 'MLF': 2458.6363636363635, 'SLO': 937.8947368421053, 'TMLF': 2238.4, '国库现金定存': 621.8085106382979, '央行票据': 247.1639344262295, '正回购': 342.69102990033224, '逆回购': 559.7029952177196}\n",
      "\n",
      "\n",
      "各类市场操作平均期限 {'CBS': 103.01204819277109, 'MLF': 296.59090909090907, 'SLO': 4.315789473684211, 'TMLF': 360.0, '国库现金定存': 110.42553191489361, '央行票据': 534.8360655737705, '正回购': 31.159468438538205, '逆回购': 11.610621696451044}\n",
      "\n",
      "\n",
      "各类市场操作次数 {'CBS': 83, 'MLF': 264, 'SLO': 57, 'TMLF': 10, '国库现金定存': 188, '央行票据': 122, '正回购': 301, '逆回购': 3973}\n"
     ]
    }
   ],
   "source": [
    "print('各类市场操作平均现金规模', avg_amt)\n",
    "print('\\n')\n",
    "print('各类市场操作平均期限', avg_term)\n",
    "print('\\n')\n",
    "print('各类市场操作次数', iss_time)"
   ]
  },
  {
   "cell_type": "markdown",
   "metadata": {},
   "source": [
    "尽管不具有很高的资金规模和长操作期限，CBS直接向商业银行提供了资金，且促进市场对商业银行永续债的购买，商业银行持续持有资金而无需还债，市场流动性受到较大影响，故债券利率受其影响大。\n",
    "\n",
    "MLF和TMLF资金规模较大，但不直接向市场投放基础货币，更多起着稳定利率的作用，故债券利率与其相关性不高。\n",
    "\n",
    "根据Pearson相关性结果：期限在3-5年与5年以上的债券则与MLF、TMLF相关性较强，这可能是因为在利率相对稳定的时候，长期债券更倾向于发行。\n",
    "\n",
    "国库现金定存、央行票据、正逆回购的流动性影响均与债券利率呈现一定程度的正相关。"
   ]
  },
  {
   "cell_type": "code",
   "execution_count": 32,
   "metadata": {},
   "outputs": [
    {
     "data": {
      "text/plain": [
       "9"
      ]
     },
     "execution_count": 32,
     "metadata": {},
     "output_type": "execute_result"
    }
   ],
   "source": [
    "len(BoC[BoC['最新债项评级'] == 'AA'])"
   ]
  },
  {
   "cell_type": "markdown",
   "metadata": {},
   "source": [
    "AA级债券在记录中发行量过少，故其发行利率与流动性的正相关性可能具有偶然性。"
   ]
  },
  {
   "cell_type": "code",
   "execution_count": null,
   "metadata": {},
   "outputs": [],
   "source": []
  }
 ],
 "metadata": {
  "kernelspec": {
   "display_name": "Python 3",
   "language": "python",
   "name": "python3"
  },
  "language_info": {
   "codemirror_mode": {
    "name": "ipython",
    "version": 3
   },
   "file_extension": ".py",
   "mimetype": "text/x-python",
   "name": "python",
   "nbconvert_exporter": "python",
   "pygments_lexer": "ipython3",
   "version": "3.8.3"
  },
  "toc": {
   "base_numbering": 1,
   "nav_menu": {},
   "number_sections": true,
   "sideBar": true,
   "skip_h1_title": false,
   "title_cell": "Table of Contents",
   "title_sidebar": "Contents",
   "toc_cell": false,
   "toc_position": {},
   "toc_section_display": true,
   "toc_window_display": false
  }
 },
 "nbformat": 4,
 "nbformat_minor": 4
}
