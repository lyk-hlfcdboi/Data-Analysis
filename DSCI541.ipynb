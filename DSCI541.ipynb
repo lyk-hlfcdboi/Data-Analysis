{
 "cells": [
  {
   "cell_type": "code",
   "execution_count": 76,
   "metadata": {},
   "outputs": [],
   "source": [
    "import pandas as pd\n",
    "import numpy as np\n",
    "import matplotlib.pyplot as plt\n",
    "import scipy as stats\n",
    "import seaborn as sns\n",
    "from statsmodels.sandbox.stats.runs import runstest_1samp\n",
    "import statistics as s\n",
    "from sklearn.preprocessing import MinMaxScaler\n",
    "from scipy.stats import chi2_contingency\n",
    "from pandasql import sqldf\n",
    "from collections import OrderedDict\n",
    "import os"
   ]
  },
  {
   "cell_type": "code",
   "execution_count": 2,
   "metadata": {},
   "outputs": [],
   "source": [
    "dir = 'D:/Computational Thinking and DS/HW1 8.22-8.26/data_airbnb'\n",
    "os.chdir(dir)"
   ]
  },
  {
   "cell_type": "code",
   "execution_count": 3,
   "metadata": {},
   "outputs": [
    {
     "name": "stderr",
     "output_type": "stream",
     "text": [
      "F:\\Anaconda\\lib\\site-packages\\IPython\\core\\interactiveshell.py:3071: DtypeWarning: Columns (5,13) have mixed types.Specify dtype option on import or set low_memory=False.\n",
      "  has_raised = await self.run_ast_nodes(code_ast.body, cell_name,\n"
     ]
    }
   ],
   "source": [
    "raw_listing = pd.read_csv('Listings.csv', encoding = 'latin1')\n",
    "raw_review = pd.read_csv('Reviews.csv', encoding = 'latin1')"
   ]
  },
  {
   "cell_type": "code",
   "execution_count": 4,
   "metadata": {},
   "outputs": [
    {
     "data": {
      "text/html": [
       "<div>\n",
       "<style scoped>\n",
       "    .dataframe tbody tr th:only-of-type {\n",
       "        vertical-align: middle;\n",
       "    }\n",
       "\n",
       "    .dataframe tbody tr th {\n",
       "        vertical-align: top;\n",
       "    }\n",
       "\n",
       "    .dataframe thead th {\n",
       "        text-align: right;\n",
       "    }\n",
       "</style>\n",
       "<table border=\"1\" class=\"dataframe\">\n",
       "  <thead>\n",
       "    <tr style=\"text-align: right;\">\n",
       "      <th></th>\n",
       "      <th>listing_id</th>\n",
       "      <th>name</th>\n",
       "      <th>host_id</th>\n",
       "      <th>host_since</th>\n",
       "      <th>host_location</th>\n",
       "      <th>host_response_time</th>\n",
       "      <th>host_response_rate</th>\n",
       "      <th>host_acceptance_rate</th>\n",
       "      <th>host_is_superhost</th>\n",
       "      <th>host_total_listings_count</th>\n",
       "      <th>...</th>\n",
       "      <th>minimum_nights</th>\n",
       "      <th>maximum_nights</th>\n",
       "      <th>review_scores_rating</th>\n",
       "      <th>review_scores_accuracy</th>\n",
       "      <th>review_scores_cleanliness</th>\n",
       "      <th>review_scores_checkin</th>\n",
       "      <th>review_scores_communication</th>\n",
       "      <th>review_scores_location</th>\n",
       "      <th>review_scores_value</th>\n",
       "      <th>instant_bookable</th>\n",
       "    </tr>\n",
       "  </thead>\n",
       "  <tbody>\n",
       "    <tr>\n",
       "      <th>85045</th>\n",
       "      <td>2577</td>\n",
       "      <td>Loft for 4 by Canal Saint Martin</td>\n",
       "      <td>2827</td>\n",
       "      <td>2008-09-09</td>\n",
       "      <td>Casablanca, Grand Casablanca, Morocco</td>\n",
       "      <td>a few days or more</td>\n",
       "      <td>0.00</td>\n",
       "      <td>0.67</td>\n",
       "      <td>f</td>\n",
       "      <td>2.0</td>\n",
       "      <td>...</td>\n",
       "      <td>3</td>\n",
       "      <td>1125</td>\n",
       "      <td>100.0</td>\n",
       "      <td>10.0</td>\n",
       "      <td>10.0</td>\n",
       "      <td>10.0</td>\n",
       "      <td>10.0</td>\n",
       "      <td>10.0</td>\n",
       "      <td>10.0</td>\n",
       "      <td>t</td>\n",
       "    </tr>\n",
       "    <tr>\n",
       "      <th>37163</th>\n",
       "      <td>2595</td>\n",
       "      <td>Skylit Midtown Castle</td>\n",
       "      <td>2845</td>\n",
       "      <td>2008-09-09</td>\n",
       "      <td>New York, New York, United States</td>\n",
       "      <td>within a few hours</td>\n",
       "      <td>0.93</td>\n",
       "      <td>0.26</td>\n",
       "      <td>f</td>\n",
       "      <td>6.0</td>\n",
       "      <td>...</td>\n",
       "      <td>30</td>\n",
       "      <td>1125</td>\n",
       "      <td>94.0</td>\n",
       "      <td>9.0</td>\n",
       "      <td>9.0</td>\n",
       "      <td>10.0</td>\n",
       "      <td>10.0</td>\n",
       "      <td>10.0</td>\n",
       "      <td>9.0</td>\n",
       "      <td>f</td>\n",
       "    </tr>\n",
       "    <tr>\n",
       "      <th>105556</th>\n",
       "      <td>2737</td>\n",
       "      <td>Elif's room in cozy, clean flat.</td>\n",
       "      <td>3047</td>\n",
       "      <td>2008-09-18</td>\n",
       "      <td>Rome, Lazio, Italy</td>\n",
       "      <td>within a day</td>\n",
       "      <td>1.00</td>\n",
       "      <td>0.00</td>\n",
       "      <td>f</td>\n",
       "      <td>5.0</td>\n",
       "      <td>...</td>\n",
       "      <td>7</td>\n",
       "      <td>1125</td>\n",
       "      <td>96.0</td>\n",
       "      <td>9.0</td>\n",
       "      <td>9.0</td>\n",
       "      <td>10.0</td>\n",
       "      <td>10.0</td>\n",
       "      <td>9.0</td>\n",
       "      <td>9.0</td>\n",
       "      <td>f</td>\n",
       "    </tr>\n",
       "    <tr>\n",
       "      <th>159807</th>\n",
       "      <td>2903</td>\n",
       "      <td>Stay a night in Calisto6 B&amp;B Rome</td>\n",
       "      <td>3280</td>\n",
       "      <td>2008-09-28</td>\n",
       "      <td>Rome, Lazio, Italy</td>\n",
       "      <td>within a few hours</td>\n",
       "      <td>1.00</td>\n",
       "      <td>1.00</td>\n",
       "      <td>f</td>\n",
       "      <td>3.0</td>\n",
       "      <td>...</td>\n",
       "      <td>1</td>\n",
       "      <td>730</td>\n",
       "      <td>86.0</td>\n",
       "      <td>9.0</td>\n",
       "      <td>9.0</td>\n",
       "      <td>9.0</td>\n",
       "      <td>9.0</td>\n",
       "      <td>9.0</td>\n",
       "      <td>9.0</td>\n",
       "      <td>f</td>\n",
       "    </tr>\n",
       "    <tr>\n",
       "      <th>227261</th>\n",
       "      <td>3079</td>\n",
       "      <td>Cozy apartment  (2-4)with Colisseum  view</td>\n",
       "      <td>3504</td>\n",
       "      <td>2008-10-08</td>\n",
       "      <td>Rome, Lazio, Italy</td>\n",
       "      <td>NaN</td>\n",
       "      <td>NaN</td>\n",
       "      <td>0.67</td>\n",
       "      <td>f</td>\n",
       "      <td>7.0</td>\n",
       "      <td>...</td>\n",
       "      <td>3</td>\n",
       "      <td>120</td>\n",
       "      <td>88.0</td>\n",
       "      <td>8.0</td>\n",
       "      <td>9.0</td>\n",
       "      <td>9.0</td>\n",
       "      <td>10.0</td>\n",
       "      <td>10.0</td>\n",
       "      <td>9.0</td>\n",
       "      <td>f</td>\n",
       "    </tr>\n",
       "  </tbody>\n",
       "</table>\n",
       "<p>5 rows × 33 columns</p>\n",
       "</div>"
      ],
      "text/plain": [
       "        listing_id                                       name  host_id  \\\n",
       "85045         2577           Loft for 4 by Canal Saint Martin     2827   \n",
       "37163         2595                      Skylit Midtown Castle     2845   \n",
       "105556        2737           Elif's room in cozy, clean flat.     3047   \n",
       "159807        2903          Stay a night in Calisto6 B&B Rome     3280   \n",
       "227261        3079  Cozy apartment  (2-4)with Colisseum  view     3504   \n",
       "\n",
       "        host_since                          host_location  host_response_time  \\\n",
       "85045   2008-09-09  Casablanca, Grand Casablanca, Morocco  a few days or more   \n",
       "37163   2008-09-09      New York, New York, United States  within a few hours   \n",
       "105556  2008-09-18                     Rome, Lazio, Italy        within a day   \n",
       "159807  2008-09-28                     Rome, Lazio, Italy  within a few hours   \n",
       "227261  2008-10-08                     Rome, Lazio, Italy                 NaN   \n",
       "\n",
       "        host_response_rate  host_acceptance_rate host_is_superhost  \\\n",
       "85045                 0.00                  0.67                 f   \n",
       "37163                 0.93                  0.26                 f   \n",
       "105556                1.00                  0.00                 f   \n",
       "159807                1.00                  1.00                 f   \n",
       "227261                 NaN                  0.67                 f   \n",
       "\n",
       "        host_total_listings_count  ... minimum_nights maximum_nights  \\\n",
       "85045                         2.0  ...              3           1125   \n",
       "37163                         6.0  ...             30           1125   \n",
       "105556                        5.0  ...              7           1125   \n",
       "159807                        3.0  ...              1            730   \n",
       "227261                        7.0  ...              3            120   \n",
       "\n",
       "       review_scores_rating review_scores_accuracy review_scores_cleanliness  \\\n",
       "85045                 100.0                   10.0                      10.0   \n",
       "37163                  94.0                    9.0                       9.0   \n",
       "105556                 96.0                    9.0                       9.0   \n",
       "159807                 86.0                    9.0                       9.0   \n",
       "227261                 88.0                    8.0                       9.0   \n",
       "\n",
       "        review_scores_checkin  review_scores_communication  \\\n",
       "85045                    10.0                         10.0   \n",
       "37163                    10.0                         10.0   \n",
       "105556                   10.0                         10.0   \n",
       "159807                    9.0                          9.0   \n",
       "227261                    9.0                         10.0   \n",
       "\n",
       "       review_scores_location review_scores_value  instant_bookable  \n",
       "85045                    10.0                10.0                 t  \n",
       "37163                    10.0                 9.0                 f  \n",
       "105556                    9.0                 9.0                 f  \n",
       "159807                    9.0                 9.0                 f  \n",
       "227261                   10.0                 9.0                 f  \n",
       "\n",
       "[5 rows x 33 columns]"
      ]
     },
     "execution_count": 4,
     "metadata": {},
     "output_type": "execute_result"
    }
   ],
   "source": [
    "raw_listing.sort_values('listing_id').head()"
   ]
  },
  {
   "cell_type": "markdown",
   "metadata": {},
   "source": [
    "Formalize the dataset, giving readable columns readable and capitalized names."
   ]
  },
  {
   "cell_type": "code",
   "execution_count": 5,
   "metadata": {},
   "outputs": [
    {
     "data": {
      "text/plain": [
       "\"\\ndef formalize(df):\\n    new_col = []\\n    for i in df.columns:\\n        new_col.append(i.title())\\n    \\n    for i in new_col:\\n        for j in range(len(i)):\\n            if i[j] == '_':\\n                upper(i[j + 1])\\n                i.pop(j)\\n    return new_col\\nformalize(raw_review)\""
      ]
     },
     "execution_count": 5,
     "metadata": {},
     "output_type": "execute_result"
    }
   ],
   "source": [
    "'''\n",
    "def formalize(df):\n",
    "    new_col = []\n",
    "    for i in df.columns:\n",
    "        new_col.append(i.title())\n",
    "    \n",
    "    for i in new_col:\n",
    "        for j in range(len(i)):\n",
    "            if i[j] == '_':\n",
    "                upper(i[j + 1])\n",
    "                i.pop(j)\n",
    "    return new_col\n",
    "formalize(raw_review)'''"
   ]
  },
  {
   "cell_type": "markdown",
   "metadata": {},
   "source": [
    "# Preprocessing the Datasets"
   ]
  },
  {
   "cell_type": "markdown",
   "metadata": {},
   "source": [
    "To check the overall conditions and null values, wrap functions up to summarize."
   ]
  },
  {
   "cell_type": "code",
   "execution_count": 56,
   "metadata": {},
   "outputs": [],
   "source": [
    "def overall_cond(df):\n",
    "    # 1 Summary\n",
    "    df.info()\n",
    "    \n",
    "    # 2 Empty Values\n",
    "    n_null = df.isnull().sum().values\n",
    "    \n",
    "    with_null = n_null[n_null > 0]\n",
    "    \n",
    "    # 3 Histogram for empty values\n",
    "    if sum(with_null) > 0:\n",
    "        labels = list(df.columns[n_null > 0])\n",
    "        plt.figure(figsize = (20, 10))\n",
    "        plt.bar(labels, with_null, linewidth = 10)\n",
    "        plt.xticks(rotation = 40)\n",
    "        plt.title('Null Values')\n",
    "    else: print('There is no empty values in the table.')\n",
    "    return"
   ]
  },
  {
   "cell_type": "markdown",
   "metadata": {},
   "source": [
    "## Checking Data"
   ]
  },
  {
   "cell_type": "markdown",
   "metadata": {},
   "source": [
    "### Listing Data"
   ]
  },
  {
   "cell_type": "code",
   "execution_count": 57,
   "metadata": {
    "scrolled": false
   },
   "outputs": [
    {
     "name": "stdout",
     "output_type": "stream",
     "text": [
      "<class 'pandas.core.frame.DataFrame'>\n",
      "RangeIndex: 279712 entries, 0 to 279711\n",
      "Data columns (total 33 columns):\n",
      " #   Column                       Non-Null Count   Dtype  \n",
      "---  ------                       --------------   -----  \n",
      " 0   listing_id                   279712 non-null  int64  \n",
      " 1   name                         279539 non-null  object \n",
      " 2   host_id                      279712 non-null  int64  \n",
      " 3   host_since                   279547 non-null  object \n",
      " 4   host_location                278872 non-null  object \n",
      " 5   host_response_time           150930 non-null  object \n",
      " 6   host_response_rate           150930 non-null  float64\n",
      " 7   host_acceptance_rate         166625 non-null  float64\n",
      " 8   host_is_superhost            279547 non-null  object \n",
      " 9   host_total_listings_count    279547 non-null  float64\n",
      " 10  host_has_profile_pic         279547 non-null  object \n",
      " 11  host_identity_verified       279547 non-null  object \n",
      " 12  neighbourhood                279712 non-null  object \n",
      " 13  district                     37012 non-null   object \n",
      " 14  city                         279712 non-null  object \n",
      " 15  latitude                     279712 non-null  float64\n",
      " 16  longitude                    279712 non-null  float64\n",
      " 17  property_type                279712 non-null  object \n",
      " 18  room_type                    279712 non-null  object \n",
      " 19  accommodates                 279712 non-null  int64  \n",
      " 20  bedrooms                     250277 non-null  float64\n",
      " 21  amenities                    279712 non-null  object \n",
      " 22  price                        279712 non-null  int64  \n",
      " 23  minimum_nights               279712 non-null  int64  \n",
      " 24  maximum_nights               279712 non-null  int64  \n",
      " 25  review_scores_rating         188307 non-null  float64\n",
      " 26  review_scores_accuracy       187999 non-null  float64\n",
      " 27  review_scores_cleanliness    188047 non-null  float64\n",
      " 28  review_scores_checkin        187941 non-null  float64\n",
      " 29  review_scores_communication  188025 non-null  float64\n",
      " 30  review_scores_location       187937 non-null  float64\n",
      " 31  review_scores_value          187927 non-null  float64\n",
      " 32  instant_bookable             279712 non-null  object \n",
      "dtypes: float64(13), int64(6), object(14)\n",
      "memory usage: 70.4+ MB\n"
     ]
    },
    {
     "data": {
      "image/png": "[encoded data removed]",
      "text/plain": [
       "<Figure size 1440x720 with 1 Axes>"
      ]
     },
     "metadata": {
      "needs_background": "light"
     },
     "output_type": "display_data"
    }
   ],
   "source": [
    "overall_cond(raw_listing)"
   ]
  },
  {
   "cell_type": "markdown",
   "metadata": {},
   "source": [
    "### Rating Times Data"
   ]
  },
  {
   "cell_type": "code",
   "execution_count": 58,
   "metadata": {
    "scrolled": false
   },
   "outputs": [
    {
     "name": "stdout",
     "output_type": "stream",
     "text": [
      "<class 'pandas.core.frame.DataFrame'>\n",
      "RangeIndex: 5373143 entries, 0 to 5373142\n",
      "Data columns (total 4 columns):\n",
      " #   Column       Dtype \n",
      "---  ------       ----- \n",
      " 0   listing_id   int64 \n",
      " 1   review_id    int64 \n",
      " 2   date         object\n",
      " 3   reviewer_id  int64 \n",
      "dtypes: int64(3), object(1)\n",
      "memory usage: 164.0+ MB\n",
      "There is no empty values in the table.\n"
     ]
    }
   ],
   "source": [
    "overall_cond(raw_review)"
   ]
  },
  {
   "cell_type": "markdown",
   "metadata": {},
   "source": [
    "There is no empty values in the rating times data."
   ]
  },
  {
   "cell_type": "markdown",
   "metadata": {},
   "source": [
    "## Data Cleaning"
   ]
  },
  {
   "cell_type": "markdown",
   "metadata": {},
   "source": [
    "First, join the two tables using the listing ID column."
   ]
  },
  {
   "cell_type": "code",
   "execution_count": 9,
   "metadata": {},
   "outputs": [
    {
     "data": {
      "text/plain": [
       "\"\\nraw_review.sort_values('listing_id'); raw_listing.sort_values('listing_id')\\nraw_df = raw_listing.merge(raw_review, how = 'right')\\nraw_df.head()\\nraw_df.columns\""
      ]
     },
     "execution_count": 9,
     "metadata": {},
     "output_type": "execute_result"
    }
   ],
   "source": [
    "'''\n",
    "raw_review.sort_values('listing_id'); raw_listing.sort_values('listing_id')\n",
    "raw_df = raw_listing.merge(raw_review, how = 'right')\n",
    "raw_df.head()\n",
    "raw_df.columns'''"
   ]
  },
  {
   "cell_type": "markdown",
   "metadata": {},
   "source": [
    "Note that a listing may have more than one review, thus I used left join."
   ]
  },
  {
   "cell_type": "markdown",
   "metadata": {},
   "source": [
    "### Correlation "
   ]
  },
  {
   "cell_type": "markdown",
   "metadata": {},
   "source": [
    "Note that missing values concentrate in rating terms (which might be due to simply skipping these scorings when writing feedbacks), I decide to estimate these missing values with the current available ones. \n",
    "\n",
    "I first try to find the correlations between features require filling and other features that might be decisive to them. For instance, the most important feature, overall ratings, might be mostly correlated to the cleanness,then accuracy, ..., so I rank the correlations between these deciding features and overall ratings using their currently available values. \n",
    "\n",
    "Then according to the rank, I fill the overall ratings with these features values in descending correlation order: **values of more important deciding features will be priorly used to fll the overall ratings first**. "
   ]
  },
  {
   "cell_type": "markdown",
   "metadata": {},
   "source": [
    "First, I fill the overall rating ('review_scores_value' in the columns) as it is the most notable thing in the reviews and we concern the most. \n",
    "\n",
    "I choose 'price', 'host_acceptance_rate', 'host_is_superhost', 'host_total_listings_count', 'host_has_profile_pic' and 'host_identity_verified' to do the correlation design. There are non-digital features among these so I find them out and transfer them. Use 0 to stand for 'f' and 1 for 't'.\n",
    "\n",
    "We want to find those features correlated to overall rating the most."
   ]
  },
  {
   "cell_type": "code",
   "execution_count": 101,
   "metadata": {},
   "outputs": [],
   "source": [
    "rating_features = ['host_is_superhost', 'host_total_listings_count', 'host_has_profile_pic', 'host_identity_verified','review_scores_accuracy', 'review_scores_cleanliness', 'review_scores_communication', 'review_scores_location']\n",
    "\n",
    "def transtf(col):\n",
    "    if col == 'f': col = 0\n",
    "    else: col = 1\n",
    "    return col\n",
    "def transobj(col):\n",
    "    dict_val = {}\n",
    "    for i in range(len(col)):\n",
    "        if col[i] not in dict_val.keys():\n",
    "            dict_val{col[i]} = []\n",
    "        dict_val{col[i]}.append(i)\n",
    "    \n",
    "    # Sort the keys (unique column values) alphabetically\n",
    "    dict_val = OrderedDict(sorted(dict_val.items()))\n",
    "            \n",
    "\n",
    "for i in range(len(rating_features)):\n",
    "    if set(raw_listing[rating_features].unique()) == set(['t', 'f']):\n",
    "        raw_listing[rating_features[i]] = raw_listing[rating_features[i]].map(transtf)\n",
    "    elif raw_listing[rating_features].unique() == 'object'"
   ]
  },
  {
   "cell_type": "code",
   "execution_count": 106,
   "metadata": {},
   "outputs": [
    {
     "data": {
      "text/plain": [
       "host_is_superhost                int64\n",
       "host_total_listings_count      float64\n",
       "host_has_profile_pic             int64\n",
       "host_identity_verified           int64\n",
       "review_scores_accuracy         float64\n",
       "review_scores_cleanliness      float64\n",
       "review_scores_communication    float64\n",
       "review_scores_location         float64\n",
       "dtype: object"
      ]
     },
     "execution_count": 106,
     "metadata": {},
     "output_type": "execute_result"
    }
   ],
   "source": [
    "raw_listing[rating_features].dtypes"
   ]
  },
  {
   "cell_type": "code",
   "execution_count": 118,
   "metadata": {},
   "outputs": [
    {
     "data": {
      "text/plain": [
       "[('review_scores_accuracy', 0.7174472944617598),\n",
       " ('review_scores_cleanliness', 0.6541490370279983),\n",
       " ('review_scores_communication', 0.6348343386391488),\n",
       " ('review_scores_location', 0.53264449045655),\n",
       " ('host_is_superhost', 0.18588532685196574),\n",
       " ('host_identity_verified', 0.036612524513703615),\n",
       " ('host_has_profile_pic', 0.007306275826200733),\n",
       " ('host_total_listings_count', -0.04902706628455049)]"
      ]
     },
     "execution_count": 118,
     "metadata": {},
     "output_type": "execute_result"
    }
   ],
   "source": [
    "rating_coefs = []\n",
    "\n",
    "for i in rating_features:\n",
    "    extr = raw_listing[~(raw_listing[i].isnull()) & ~(raw_listing['review_scores_value'].isnull())].copy()\n",
    "    rating_coefs.append(extr[[i, 'review_scores_value']].corr().iloc[0][1])\n",
    "\n",
    "dict_coef = {rating_features[i]: rating_coefs[i] for i in range(len(rating_features))}\n",
    "sorted_fnc =  sorted(dict_coef.items(), key = lambda x: x[1], reverse = True)\n",
    "sorted_fnc"
   ]
  },
  {
   "cell_type": "markdown",
   "metadata": {},
   "source": [
    "The results above indeed show factors we attach importance to when we book housings. After checking in, customers use  'review_scores_accuracy', the most correlated feature, to rate the accuracy of houses' description on the Airbnb according to what they see. This highly indicates the descrepancy between the customers' expectation and what they actually get, thus rating the truthfulness of the business. Cleanliness, the runner up, is another important feature customer look at. Also, quality communication has a similar importance. \n",
    "\n",
    "I will add more features to help fill the null value of overall ratings. I only choose features which have a correlation coefficient grater than 0.6. \n",
    "\n",
    "The function below summarizes the methods above: coding boolean features, excluding nulls, calculating correlations and sorting features by correlation coefficients."
   ]
  },
  {
   "cell_type": "code",
   "execution_count": 60,
   "metadata": {},
   "outputs": [],
   "source": [
    "def choose_features(rating_features, target_feature, df):\n",
    "    def transtf(col):\n",
    "        if col == 'f': col = 0\n",
    "        else: col = 1\n",
    "        return col\n",
    "\n",
    "    for i in range(len(rating_features)):\n",
    "        if df[rating_features].dtypes[i] != 'float64':\n",
    "            df[rating_features[i]] = df[rating_features[i]].map(transtf)\n",
    "    \n",
    "    rating_coefs = []\n",
    "\n",
    "    for i in rating_features:\n",
    "        extr = df[~(df[i].isnull()) & ~(df[target_feature].isnull())].copy()\n",
    "        rating_coefs.append(extr[[i, target_feature]].corr().iloc[0][1])\n",
    "\n",
    "    dict_coef = {rating_features[i]: rating_coefs[i] for i in range(len(rating_features))}\n",
    "    sorted_fnc =  sorted(dict_coef.items(), key = lambda x: x[1], reverse = True)\n",
    "    \n",
    "    return sorted_fnc"
   ]
  },
  {
   "cell_type": "code",
   "execution_count": 61,
   "metadata": {},
   "outputs": [
    {
     "data": {
      "text/plain": [
       "[('host_response_time', nan),\n",
       " ('review_scores_accuracy', 0.7174472944617598),\n",
       " ('review_scores_cleanliness', 0.6541490370279983),\n",
       " ('review_scores_communication', 0.6348343386391488),\n",
       " ('review_scores_checkin', 0.5951674090865514),\n",
       " ('review_scores_location', 0.53264449045655),\n",
       " ('host_is_superhost', 0.18588532685196574),\n",
       " ('host_response_rate', 0.09923372792458196),\n",
       " ('host_identity_verified', 0.036612524513703615),\n",
       " ('host_has_profile_pic', 0.007306275826200733),\n",
       " ('host_total_listings_count', -0.04902706628455049)]"
      ]
     },
     "execution_count": 61,
     "metadata": {},
     "output_type": "execute_result"
    }
   ],
   "source": [
    "rating_features = ['host_response_time', 'host_response_rate', 'review_scores_checkin', 'host_is_superhost', 'host_total_listings_count', 'host_has_profile_pic', 'host_identity_verified','review_scores_accuracy', 'review_scores_cleanliness', 'review_scores_communication', 'review_scores_location']\n",
    "choose_features(rating_features, 'review_scores_value', raw_listing)"
   ]
  },
  {
   "cell_type": "code",
   "execution_count": 67,
   "metadata": {},
   "outputs": [
    {
     "data": {
      "text/plain": [
       "0         1\n",
       "1         1\n",
       "2         1\n",
       "3         1\n",
       "4         1\n",
       "         ..\n",
       "279707    1\n",
       "279708    1\n",
       "279709    1\n",
       "279710    1\n",
       "279711    1\n",
       "Name: host_response_time, Length: 279712, dtype: int64"
      ]
     },
     "execution_count": 67,
     "metadata": {},
     "output_type": "execute_result"
    }
   ],
   "source": [
    "raw_listing['host_response_time']"
   ]
  },
  {
   "cell_type": "markdown",
   "metadata": {},
   "source": [
    "I was confused about the insignificant correlation between superhost title and the ratings ('review_scores_value'), as normally, superhosts are those constantly recieve high ratings. Maybe it is the correlation coefficient that ignores their internal relationship.\n",
    "\n",
    "So, I also want to use hypothesis tests to see the difference in distributions of overall ratings, between housings with different boolean feature values. Features 'host_is_superhost' and 'host_total_listings_count' are the two I want to use different ways to test their correlation to the overall ratings.\n",
    "\n",
    "For 'host_is_superhost', a boolean feature, I first draw histogram of the rating values binarily partitioned into two classes by the 'host_is_superhost' values: whether the host is a superhost. This helps me estimate the possible distribution of the ratings from the two classes."
   ]
  },
  {
   "cell_type": "code",
   "execution_count": 138,
   "metadata": {},
   "outputs": [
    {
     "data": {
      "text/html": [
       "<div>\n",
       "<style scoped>\n",
       "    .dataframe tbody tr th:only-of-type {\n",
       "        vertical-align: middle;\n",
       "    }\n",
       "\n",
       "    .dataframe tbody tr th {\n",
       "        vertical-align: top;\n",
       "    }\n",
       "\n",
       "    .dataframe thead th {\n",
       "        text-align: right;\n",
       "    }\n",
       "</style>\n",
       "<table border=\"1\" class=\"dataframe\">\n",
       "  <thead>\n",
       "    <tr style=\"text-align: right;\">\n",
       "      <th></th>\n",
       "      <th>host_total_listings_count</th>\n",
       "      <th>host_is_superhost</th>\n",
       "    </tr>\n",
       "  </thead>\n",
       "  <tbody>\n",
       "    <tr>\n",
       "      <th>count</th>\n",
       "      <td>279547.000000</td>\n",
       "      <td>279712.000000</td>\n",
       "    </tr>\n",
       "    <tr>\n",
       "      <th>mean</th>\n",
       "      <td>24.581612</td>\n",
       "      <td>0.180250</td>\n",
       "    </tr>\n",
       "    <tr>\n",
       "      <th>std</th>\n",
       "      <td>284.041143</td>\n",
       "      <td>0.384396</td>\n",
       "    </tr>\n",
       "    <tr>\n",
       "      <th>min</th>\n",
       "      <td>0.000000</td>\n",
       "      <td>0.000000</td>\n",
       "    </tr>\n",
       "    <tr>\n",
       "      <th>25%</th>\n",
       "      <td>1.000000</td>\n",
       "      <td>0.000000</td>\n",
       "    </tr>\n",
       "    <tr>\n",
       "      <th>50%</th>\n",
       "      <td>1.000000</td>\n",
       "      <td>0.000000</td>\n",
       "    </tr>\n",
       "    <tr>\n",
       "      <th>75%</th>\n",
       "      <td>4.000000</td>\n",
       "      <td>0.000000</td>\n",
       "    </tr>\n",
       "    <tr>\n",
       "      <th>max</th>\n",
       "      <td>7235.000000</td>\n",
       "      <td>1.000000</td>\n",
       "    </tr>\n",
       "  </tbody>\n",
       "</table>\n",
       "</div>"
      ],
      "text/plain": [
       "       host_total_listings_count  host_is_superhost\n",
       "count              279547.000000      279712.000000\n",
       "mean                   24.581612           0.180250\n",
       "std                   284.041143           0.384396\n",
       "min                     0.000000           0.000000\n",
       "25%                     1.000000           0.000000\n",
       "50%                     1.000000           0.000000\n",
       "75%                     4.000000           0.000000\n",
       "max                  7235.000000           1.000000"
      ]
     },
     "execution_count": 138,
     "metadata": {},
     "output_type": "execute_result"
    }
   ],
   "source": [
    "raw_listing[['host_total_listings_count', 'host_is_superhost']].describe()"
   ]
  },
  {
   "cell_type": "markdown",
   "metadata": {},
   "source": [
    "It is quite likely that the listing count has outliers. Due to the distance between outliers and the majority which makes histogram unintelligible, I calculate 90% quantile to check the place of these outliers. Also, I want to see their distribution."
   ]
  },
  {
   "cell_type": "code",
   "execution_count": 175,
   "metadata": {},
   "outputs": [
    {
     "data": {
      "text/plain": [
       "Text(0.5, 0, \"Hosts' Number of Listings\")"
      ]
     },
     "execution_count": 175,
     "metadata": {},
     "output_type": "execute_result"
    },
    {
     "data": {
      "image/png": "[encoded data removed]",
      "text/plain": [
       "<Figure size 432x288 with 1 Axes>"
      ]
     },
     "metadata": {
      "needs_background": "light"
     },
     "output_type": "display_data"
    }
   ],
   "source": [
    "non_null_nlisting = raw_listing[(raw_listing['host_total_listings_count'].notnull()) & (raw_listing['host_total_listings_count'].notnull())]\n",
    "q_nlisting = np.quantile(non_null_nlisting['host_total_listings_count'], .90)\n",
    "non_null_nlisting[non_null_nlisting['host_total_listings_count'] > q_nlisting]['host_total_listings_count'].hist()\n",
    "plt.title('Outliers of Total Listings (>90% Quantile)')\n",
    "plt.xlabel('Hosts\\' Number of Listings')"
   ]
  },
  {
   "cell_type": "markdown",
   "metadata": {},
   "source": [
    "We exclude those listings whoes hosts have had more than 1000 deals; also, we classify the pillars into whether hosts are superhost\n",
    "."
   ]
  },
  {
   "cell_type": "code",
   "execution_count": 192,
   "metadata": {},
   "outputs": [
    {
     "data": {
      "image/png": "[encoded data removed]",
      "text/plain": [
       "<Figure size 432x288 with 1 Axes>"
      ]
     },
     "metadata": {
      "needs_background": "light"
     },
     "output_type": "display_data"
    }
   ],
   "source": [
    "non_null_nlisting[(non_null_nlisting['host_total_listings_count'] > q_nlisting) & (non_null_nlisting['host_total_listings_count'] < 1000) & (non_null_nlisting['host_is_superhost'] == 0)]\\\n",
    "['host_total_listings_count'].hist()\n",
    "non_null_nlisting[(non_null_nlisting['host_total_listings_count'] > q_nlisting) & (non_null_nlisting['host_total_listings_count'] < 1000) & (non_null_nlisting['host_is_superhost'] == 1)]\\\n",
    "['host_total_listings_count'].hist()\n",
    "plt.legend(['Not Superhost', 'Superhost'])\n",
    "plt.title('Hosts\\' Listing Count (Partitioned by Superhost Title)')\n",
    "plt.show()"
   ]
  },
  {
   "cell_type": "markdown",
   "metadata": {},
   "source": [
    "According to this figure, I wonder if the percentage of popular hosts (have more listings) is higher in the superhost population than that in the non-superhosts, i.e. superhosts tend to have more of their houses rent.\n",
    "\n",
    "I decide to firt use Chi-square Test: partition the counts of listings that hosts made into two parts: if it is higher than 50, then suppose the host to be a popular host. This tests whether the superhost is a influencing factor."
   ]
  },
  {
   "cell_type": "code",
   "execution_count": 201,
   "metadata": {},
   "outputs": [
    {
     "data": {
      "text/plain": [
       "(475.20583123446914,\n",
       " 2.360233090147678e-105,\n",
       " 1,\n",
       " array([[ 10129.07169814, 219164.92830186],\n",
       "        [  2219.92830186,  48033.07169814]]))"
      ]
     },
     "execution_count": 201,
     "metadata": {},
     "output_type": "execute_result"
    }
   ],
   "source": [
    "pop_ns_hosts = non_null_nlisting[(non_null_nlisting['host_total_listings_count'] > 50) & (non_null_nlisting['host_is_superhost'] == 0)]\\\n",
    "['host_total_listings_count']\n",
    "pop_s_hosts = non_null_nlisting[(non_null_nlisting['host_total_listings_count'] > 50) & (non_null_nlisting['host_is_superhost'] == 1)]\\\n",
    "['host_total_listings_count']\n",
    "\n",
    "norm_ns_hosts = non_null_nlisting[(non_null_nlisting['host_total_listings_count'] <= 50) & (non_null_nlisting['host_is_superhost'] == 0)]\\\n",
    "['host_total_listings_count']\n",
    "norm_s_hosts = non_null_nlisting[(non_null_nlisting['host_total_listings_count'] <= 50) & (non_null_nlisting['host_is_superhost'] == 1)]\\\n",
    "['host_total_listings_count']\n",
    "\n",
    "infom = np.array([[len(pop_ns_hosts), len(norm_ns_hosts)], [len(pop_s_hosts), len(norm_s_hosts)]])\n",
    "res = chi2_contingency(infom)\n",
    "res"
   ]
  },
  {
   "cell_type": "markdown",
   "metadata": {},
   "source": [
    "The $p$ value is quite small, close to 0, so that it is confident enough to say superhost is a influencing factor. The percentage of popular hosts in the superhosts are significantly higher than that of the normal hosts. \n",
    "\n",
    "So we can say that a superhost title makes more listings."
   ]
  },
  {
   "cell_type": "code",
   "execution_count": null,
   "metadata": {},
   "outputs": [],
   "source": [
    "from scipy.stats import chi2_contingency"
   ]
  },
  {
   "cell_type": "code",
   "execution_count": 10,
   "metadata": {},
   "outputs": [
    {
     "data": {
      "text/plain": [
       "<matplotlib.axes._subplots.AxesSubplot at 0x24900d9a130>"
      ]
     },
     "execution_count": 10,
     "metadata": {},
     "output_type": "execute_result"
    },
    {
     "data": {
      "image/png": "[encoded data removed]",
      "text/plain": [
       "<Figure size 432x288 with 1 Axes>"
      ]
     },
     "metadata": {
      "needs_background": "light"
     },
     "output_type": "display_data"
    }
   ],
   "source": [
    "sns.histplot(raw_listing, x='review_scores_value', hue='host_is_superhost', discrete = True)"
   ]
  },
  {
   "cell_type": "markdown",
   "metadata": {},
   "source": [
    "From the figure above, the distributions of overall ratings of the two classes seem to be the same. Most listings in both kinds of hosts tend to be scored high. The superhost title does not necessarily make customers more satisfied.\n",
    "\n",
    "Then will best sellers tend to be scored higher?"
   ]
  },
  {
   "cell_type": "code",
   "execution_count": 131,
   "metadata": {},
   "outputs": [
    {
     "data": {
      "text/plain": [
       "<seaborn.axisgrid.PairGrid at 0x143838639d0>"
      ]
     },
     "execution_count": 131,
     "metadata": {},
     "output_type": "execute_result"
    },
    {
     "data": {
      "image/png": "[encoded data removed]",
      "text/plain": [
       "<Figure size 277.125x180 with 2 Axes>"
      ]
     },
     "metadata": {
      "needs_background": "light"
     },
     "output_type": "display_data"
    }
   ],
   "source": [
    "sns.pairplot(raw_listing[['host_is_superhost', 'host_total_listings_count']], hue='host_is_superhost')"
   ]
  },
  {
   "cell_type": "markdown",
   "metadata": {},
   "source": [
    "# Correlation Design"
   ]
  },
  {
   "cell_type": "markdown",
   "metadata": {},
   "source": [
    "## Amenity vs. Price"
   ]
  },
  {
   "cell_type": "code",
   "execution_count": 63,
   "metadata": {},
   "outputs": [
    {
     "data": {
      "text/plain": [
       "'[\"Heating\", \"Kitchen\", \"Washer\", \"Wifi\", \"Long term stays allowed\"]'"
      ]
     },
     "execution_count": 63,
     "metadata": {},
     "output_type": "execute_result"
    }
   ],
   "source": [
    "df['amenities'][0]"
   ]
  },
  {
   "cell_type": "markdown",
   "metadata": {},
   "source": [
    "First, for each value in the amenities column, convert the string with square brackets and quotation marks into a string with seperate words."
   ]
  },
  {
   "cell_type": "code",
   "execution_count": 64,
   "metadata": {},
   "outputs": [],
   "source": [
    "def remove_b_q(df_col): # Input a column whose instances are strings.\n",
    "    to_blank = ['\"', '[', ']', '/', '\\\\', '?', '!']\n",
    "    for i in to_blank:\n",
    "        df_col = df_col.replace(i, '')\n",
    "        \n",
    "    df_col = df_col.replace(' ,', ','); df_col = df_col.replace(', ', ',')\n",
    "    df_col = df_col.lower() # For convenience, convert all words into lower cases.\n",
    "    df_col = df_col.split(',')\n",
    "    return df_col"
   ]
  },
  {
   "cell_type": "code",
   "execution_count": 65,
   "metadata": {},
   "outputs": [],
   "source": [
    "df['amenities'] = df['amenities'].map(remove_b_q)"
   ]
  },
  {
   "cell_type": "markdown",
   "metadata": {},
   "source": [
    "We try to explore whether there is a correlation between number of amenities of each house and price. This let us know **whether more amenities means a higher price**. Tally the number of amenities for each house; the number of amenities and price are both continuous variable thus we first try **Pearson Correlation**."
   ]
  },
  {
   "cell_type": "code",
   "execution_count": 74,
   "metadata": {},
   "outputs": [
    {
     "data": {
      "text/html": [
       "<div>\n",
       "<style scoped>\n",
       "    .dataframe tbody tr th:only-of-type {\n",
       "        vertical-align: middle;\n",
       "    }\n",
       "\n",
       "    .dataframe tbody tr th {\n",
       "        vertical-align: top;\n",
       "    }\n",
       "\n",
       "    .dataframe thead th {\n",
       "        text-align: right;\n",
       "    }\n",
       "</style>\n",
       "<table border=\"1\" class=\"dataframe\">\n",
       "  <thead>\n",
       "    <tr style=\"text-align: right;\">\n",
       "      <th></th>\n",
       "      <th>amenities</th>\n",
       "      <th>n_amenities</th>\n",
       "      <th>price</th>\n",
       "    </tr>\n",
       "  </thead>\n",
       "  <tbody>\n",
       "    <tr>\n",
       "      <th>0</th>\n",
       "      <td>[heating, kitchen, washer, wifi, long term sta...</td>\n",
       "      <td>5</td>\n",
       "      <td>53</td>\n",
       "    </tr>\n",
       "    <tr>\n",
       "      <th>1</th>\n",
       "      <td>[shampoo, heating, kitchen, essentials, washer...</td>\n",
       "      <td>8</td>\n",
       "      <td>120</td>\n",
       "    </tr>\n",
       "    <tr>\n",
       "      <th>2</th>\n",
       "      <td>[heating, tv, kitchen, washer, wifi, long term...</td>\n",
       "      <td>6</td>\n",
       "      <td>89</td>\n",
       "    </tr>\n",
       "    <tr>\n",
       "      <th>3</th>\n",
       "      <td>[heating, tv, kitchen, wifi, long term stays a...</td>\n",
       "      <td>5</td>\n",
       "      <td>58</td>\n",
       "    </tr>\n",
       "    <tr>\n",
       "      <th>4</th>\n",
       "      <td>[heating, tv, kitchen, essentials, hair dryer,...</td>\n",
       "      <td>12</td>\n",
       "      <td>60</td>\n",
       "    </tr>\n",
       "    <tr>\n",
       "      <th>...</th>\n",
       "      <td>...</td>\n",
       "      <td>...</td>\n",
       "      <td>...</td>\n",
       "    </tr>\n",
       "    <tr>\n",
       "      <th>279707</th>\n",
       "      <td>[iron, heating, washer, dedicated workspace, e...</td>\n",
       "      <td>12</td>\n",
       "      <td>120</td>\n",
       "    </tr>\n",
       "    <tr>\n",
       "      <th>279708</th>\n",
       "      <td>[shampoo, iron, heating, washer, hair dryer, e...</td>\n",
       "      <td>12</td>\n",
       "      <td>60</td>\n",
       "    </tr>\n",
       "    <tr>\n",
       "      <th>279709</th>\n",
       "      <td>[paid parking off premises, shampoo, first aid...</td>\n",
       "      <td>15</td>\n",
       "      <td>50</td>\n",
       "    </tr>\n",
       "    <tr>\n",
       "      <th>279710</th>\n",
       "      <td>[tv, iron, kitchen, hangers, smoke alarm, cabl...</td>\n",
       "      <td>15</td>\n",
       "      <td>105</td>\n",
       "    </tr>\n",
       "    <tr>\n",
       "      <th>279711</th>\n",
       "      <td>[shower gel, shampoo, iron, heating, washer, d...</td>\n",
       "      <td>17</td>\n",
       "      <td>70</td>\n",
       "    </tr>\n",
       "  </tbody>\n",
       "</table>\n",
       "<p>279712 rows × 3 columns</p>\n",
       "</div>"
      ],
      "text/plain": [
       "                                                amenities  n_amenities  price\n",
       "0       [heating, kitchen, washer, wifi, long term sta...            5     53\n",
       "1       [shampoo, heating, kitchen, essentials, washer...            8    120\n",
       "2       [heating, tv, kitchen, washer, wifi, long term...            6     89\n",
       "3       [heating, tv, kitchen, wifi, long term stays a...            5     58\n",
       "4       [heating, tv, kitchen, essentials, hair dryer,...           12     60\n",
       "...                                                   ...          ...    ...\n",
       "279707  [iron, heating, washer, dedicated workspace, e...           12    120\n",
       "279708  [shampoo, iron, heating, washer, hair dryer, e...           12     60\n",
       "279709  [paid parking off premises, shampoo, first aid...           15     50\n",
       "279710  [tv, iron, kitchen, hangers, smoke alarm, cabl...           15    105\n",
       "279711  [shower gel, shampoo, iron, heating, washer, d...           17     70\n",
       "\n",
       "[279712 rows x 3 columns]"
      ]
     },
     "execution_count": 74,
     "metadata": {},
     "output_type": "execute_result"
    }
   ],
   "source": [
    "df['n_amenities'] = df['amenities'].map(len)\n",
    "df[['amenities', 'n_amenities', 'price']]"
   ]
  },
  {
   "cell_type": "code",
   "execution_count": 75,
   "metadata": {},
   "outputs": [
    {
     "data": {
      "text/html": [
       "<div>\n",
       "<style scoped>\n",
       "    .dataframe tbody tr th:only-of-type {\n",
       "        vertical-align: middle;\n",
       "    }\n",
       "\n",
       "    .dataframe tbody tr th {\n",
       "        vertical-align: top;\n",
       "    }\n",
       "\n",
       "    .dataframe thead th {\n",
       "        text-align: right;\n",
       "    }\n",
       "</style>\n",
       "<table border=\"1\" class=\"dataframe\">\n",
       "  <thead>\n",
       "    <tr style=\"text-align: right;\">\n",
       "      <th></th>\n",
       "      <th>n_amenities</th>\n",
       "      <th>price</th>\n",
       "    </tr>\n",
       "  </thead>\n",
       "  <tbody>\n",
       "    <tr>\n",
       "      <th>n_amenities</th>\n",
       "      <td>1.000000</td>\n",
       "      <td>0.028429</td>\n",
       "    </tr>\n",
       "    <tr>\n",
       "      <th>price</th>\n",
       "      <td>0.028429</td>\n",
       "      <td>1.000000</td>\n",
       "    </tr>\n",
       "  </tbody>\n",
       "</table>\n",
       "</div>"
      ],
      "text/plain": [
       "             n_amenities     price\n",
       "n_amenities     1.000000  0.028429\n",
       "price           0.028429  1.000000"
      ]
     },
     "execution_count": 75,
     "metadata": {},
     "output_type": "execute_result"
    }
   ],
   "source": [
    "df[['n_amenities', 'price']].corr()"
   ]
  },
  {
   "cell_type": "markdown",
   "metadata": {},
   "source": [
    "It seems that there is no significant correlation between the number of amenities and price. \n",
    "\n",
    "To further explore something about amenities, I create a dictionary to store each distinctive amenity (keys) and the index of houses that own it (values). "
   ]
  },
  {
   "cell_type": "code",
   "execution_count": 67,
   "metadata": {},
   "outputs": [],
   "source": [
    "def distinct_words(col_):\n",
    "    words = {};\n",
    "    for i in range(len(col_)):  \n",
    "        for j in col_[i]:\n",
    "            if j not in words.keys(): \n",
    "                words[j] = []\n",
    "            words[j].append(i)\n",
    "    return words\n"
   ]
  },
  {
   "cell_type": "code",
   "execution_count": 68,
   "metadata": {},
   "outputs": [],
   "source": [
    "all_amenities = distinct_words(df['amenities'])"
   ]
  },
  {
   "cell_type": "code",
   "execution_count": 130,
   "metadata": {},
   "outputs": [
    {
     "data": {
      "text/plain": [
       "' amenities realgemu2019s -talentos do brasil feita a base de mel'"
      ]
     },
     "execution_count": 130,
     "metadata": {},
     "output_type": "execute_result"
    }
   ],
   "source": [
    "sorted(all_amenities.keys())\n",
    "# Remove the ''\n",
    "all_amenities.pop('')\n",
    "sorted(all_amenities.keys())[0]"
   ]
  },
  {
   "cell_type": "code",
   "execution_count": 77,
   "metadata": {
    "scrolled": false
   },
   "outputs": [
    {
     "data": {
      "text/plain": [
       "' # One-hot coding for each amenity.\\nidx_amn = list(range(0, len(df), 1))\\nN_amenity = pd.DataFrame(index = idx_amn, columns = all_amenities.keys())\\nfor i in N_amenitiy.col():\\n    N_amenity[all_amenities[i]] = 1\\n    N_amenity.all_amenities.fillna(value = 0)\\n'"
      ]
     },
     "execution_count": 77,
     "metadata": {},
     "output_type": "execute_result"
    }
   ],
   "source": [
    "''' # One-hot coding for each amenity.\n",
    "idx_amn = list(range(0, len(df), 1))\n",
    "N_amenity = pd.DataFrame(index = idx_amn, columns = all_amenities.keys())\n",
    "for i in N_amenitiy.col():\n",
    "    N_amenity[all_amenities[i]] = 1\n",
    "    N_amenity.all_amenities.fillna(value = 0)\n",
    "'''"
   ]
  },
  {
   "cell_type": "markdown",
   "metadata": {},
   "source": [
    "Therefore, I want to know the distribution of housing price. \n",
    "\n",
    "When customer choose houses, they tend to set a range for housing prices choose from. Instead of regarding prices as continuous, **I use quartiles to partition the housing according to their prices into four classes: economical, comfortable, premium and luxury**. Let's assume that we working classes never consider houses of more than $1500 per night, which also makes the boxplot more intelligible.\n",
    "\n",
    "First, check the boxplot of the housing prices and find the quartiles."
   ]
  },
  {
   "cell_type": "code",
   "execution_count": 113,
   "metadata": {},
   "outputs": [
    {
     "data": {
      "text/plain": [
       "Text(0.5, 1.0, 'Boxplot of Housing Price')"
      ]
     },
     "execution_count": 113,
     "metadata": {},
     "output_type": "execute_result"
    },
    {
     "data": {
      "image/png": "[encoded data removed]",
      "text/plain": [
       "<Figure size 432x288 with 1 Axes>"
      ]
     },
     "metadata": {
      "needs_background": "light"
     },
     "output_type": "display_data"
    }
   ],
   "source": [
    "houses_cnsd = df[df['price'] <= 1500].copy()\n",
    "\n",
    "plt.boxplot(np.array(houses_cnsd['price']).reshape(-1, 1))\n",
    "plt.title('Boxplot of Housing Price')"
   ]
  },
  {
   "cell_type": "markdown",
   "metadata": {},
   "source": [
    "Prices lower than the first quartile are in economical class, between the 25% quantile and the 75% quantile are comfortable, between the 75% quantile and  theoretical maximum ($q_{3} + 1.5 (q_{3} - q_{1})$) are permium, \n",
    "and the houses with prices higher than the theoretical maximum are luxury. In this way, we assign labels to them."
   ]
  },
  {
   "cell_type": "code",
   "execution_count": 114,
   "metadata": {},
   "outputs": [],
   "source": [
    "q_ = s.quantiles(houses_cnsd['price'], n = 4)\n",
    "q1 = q_[0]; q2 = q_[1]; q3 = q_[2]"
   ]
  },
  {
   "cell_type": "code",
   "execution_count": 115,
   "metadata": {},
   "outputs": [],
   "source": [
    "df['Label'] = np.nan;"
   ]
  },
  {
   "cell_type": "code",
   "execution_count": 116,
   "metadata": {},
   "outputs": [
    {
     "name": "stderr",
     "output_type": "stream",
     "text": [
      "<ipython-input-116-cfaf098c6850>:3: SettingWithCopyWarning: \n",
      "A value is trying to be set on a copy of a slice from a DataFrame\n",
      "\n",
      "See the caveats in the documentation: https://pandas.pydata.org/pandas-docs/stable/user_guide/indexing.html#returning-a-view-versus-a-copy\n",
      "  df['Label'][i] = 'Economical'\n",
      "F:\\Anaconda\\lib\\site-packages\\pandas\\core\\indexing.py:671: SettingWithCopyWarning: \n",
      "A value is trying to be set on a copy of a slice from a DataFrame\n",
      "\n",
      "See the caveats in the documentation: https://pandas.pydata.org/pandas-docs/stable/user_guide/indexing.html#returning-a-view-versus-a-copy\n",
      "  self._setitem_with_indexer(indexer, value)\n",
      "<ipython-input-116-cfaf098c6850>:5: SettingWithCopyWarning: \n",
      "A value is trying to be set on a copy of a slice from a DataFrame\n",
      "\n",
      "See the caveats in the documentation: https://pandas.pydata.org/pandas-docs/stable/user_guide/indexing.html#returning-a-view-versus-a-copy\n",
      "  df['Label'][i] = 'Comfortable'\n",
      "<ipython-input-116-cfaf098c6850>:7: SettingWithCopyWarning: \n",
      "A value is trying to be set on a copy of a slice from a DataFrame\n",
      "\n",
      "See the caveats in the documentation: https://pandas.pydata.org/pandas-docs/stable/user_guide/indexing.html#returning-a-view-versus-a-copy\n",
      "  df['Label'][i] = 'Premium'\n",
      "<ipython-input-116-cfaf098c6850>:8: SettingWithCopyWarning: \n",
      "A value is trying to be set on a copy of a slice from a DataFrame\n",
      "\n",
      "See the caveats in the documentation: https://pandas.pydata.org/pandas-docs/stable/user_guide/indexing.html#returning-a-view-versus-a-copy\n",
      "  else:  df['Label'][i] = 'Luxury'\n"
     ]
    },
    {
     "data": {
      "text/plain": [
       "0          Economical\n",
       "1         Comfortable\n",
       "2         Comfortable\n",
       "3          Economical\n",
       "4          Economical\n",
       "             ...     \n",
       "279707    Comfortable\n",
       "279708     Economical\n",
       "279709     Economical\n",
       "279710    Comfortable\n",
       "279711     Economical\n",
       "Name: Label, Length: 279712, dtype: object"
      ]
     },
     "execution_count": 116,
     "metadata": {},
     "output_type": "execute_result"
    }
   ],
   "source": [
    "for i in range(len(df)):\n",
    "    if df['price'][i] < q1:\n",
    "        df['Label'][i] = 'Economical'\n",
    "    elif q1 <= df['price'][i] < q3:\n",
    "        df['Label'][i] = 'Comfortable'\n",
    "    elif q3 <= df['price'][i] < q3 + 1.5 * (q3 - q1):\n",
    "        df['Label'][i] = 'Premium'\n",
    "    else:  df['Label'][i] = 'Luxury'\n",
    "\n",
    "df['Label']"
   ]
  },
  {
   "cell_type": "code",
   "execution_count": 117,
   "metadata": {},
   "outputs": [
    {
     "data": {
      "text/plain": [
       "Text(0.5, 1.0, 'Distribution of Classes')"
      ]
     },
     "execution_count": 117,
     "metadata": {},
     "output_type": "execute_result"
    },
    {
     "data": {
      "image/png": "[encoded data removed]",
      "text/plain": [
       "<Figure size 432x288 with 1 Axes>"
      ]
     },
     "metadata": {
      "needs_background": "light"
     },
     "output_type": "display_data"
    }
   ],
   "source": [
    "df['Label'].hist()\n",
    "plt.title('Distribution of Classes')"
   ]
  },
  {
   "cell_type": "markdown",
   "metadata": {},
   "source": [
    "Also I would like to know the distribution of the amenities, checking thoes mostly pervasively owned."
   ]
  },
  {
   "cell_type": "code",
   "execution_count": 121,
   "metadata": {},
   "outputs": [],
   "source": [
    "n_amn = []\n",
    "for i in sorted(all_amenities.keys()):\n",
    "    n_amn.append(len(all_amenities))\n",
    "Amenities = pd.DataFrame(columns = ['Amenity Names', 'Count'])"
   ]
  },
  {
   "cell_type": "code",
   "execution_count": 137,
   "metadata": {},
   "outputs": [],
   "source": [
    "Amenities['Amenity Names'] = sorted(all_amenities.keys())\n",
    "for i in range(len(Amenities)):\n",
    "    Amenities['Count'][i] = len(all_amenities[Amenities['Amenity Names'][i]])"
   ]
  },
  {
   "cell_type": "code",
   "execution_count": 142,
   "metadata": {},
   "outputs": [
    {
     "data": {
      "text/plain": [
       "{'whiskers': [<matplotlib.lines.Line2D at 0x1f21c7bda60>,\n",
       "  <matplotlib.lines.Line2D at 0x1f21c7bddc0>],\n",
       " 'caps': [<matplotlib.lines.Line2D at 0x1f21c7c9160>,\n",
       "  <matplotlib.lines.Line2D at 0x1f21c7c9490>],\n",
       " 'boxes': [<matplotlib.lines.Line2D at 0x1f21c7bd700>],\n",
       " 'medians': [<matplotlib.lines.Line2D at 0x1f21c7c97c0>],\n",
       " 'fliers': [<matplotlib.lines.Line2D at 0x1f21c7c9a90>],\n",
       " 'means': []}"
      ]
     },
     "execution_count": 142,
     "metadata": {},
     "output_type": "execute_result"
    },
    {
     "data": {
      "image/png": "[encoded data removed]",
      "text/plain": [
       "<Figure size 432x288 with 1 Axes>"
      ]
     },
     "metadata": {
      "needs_background": "light"
     },
     "output_type": "display_data"
    }
   ],
   "source": []
  },
  {
   "cell_type": "markdown",
   "metadata": {},
   "source": [
    "## Amenity vs. Overall Rating"
   ]
  },
  {
   "cell_type": "code",
   "execution_count": null,
   "metadata": {},
   "outputs": [],
   "source": []
  }
 ],
 "metadata": {
  "kernelspec": {
   "display_name": "Python 3",
   "language": "python",
   "name": "python3"
  },
  "language_info": {
   "codemirror_mode": {
    "name": "ipython",
    "version": 3
   },
   "file_extension": ".py",
   "mimetype": "text/x-python",
   "name": "python",
   "nbconvert_exporter": "python",
   "pygments_lexer": "ipython3",
   "version": "3.8.3"
  },
  "toc": {
   "base_numbering": 1,
   "nav_menu": {},
   "number_sections": true,
   "sideBar": true,
   "skip_h1_title": false,
   "title_cell": "Table of Contents",
   "title_sidebar": "Contents",
   "toc_cell": false,
   "toc_position": {},
   "toc_section_display": true,
   "toc_window_display": false
  }
 },
 "nbformat": 4,
 "nbformat_minor": 4
}
